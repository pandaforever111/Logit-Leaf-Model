{
  "cells": [
    {
      "cell_type": "code",
      "execution_count": null,
      "id": "a2bc43bd",
      "metadata": {
        "id": "a2bc43bd"
      },
      "outputs": [],
      "source": [
        "import pandas as pd\n",
        "import matplotlib.pyplot as plt\n",
        "import numpy as np"
      ]
    },
    {
      "cell_type": "code",
      "execution_count": null,
      "id": "da1532ca",
      "metadata": {
        "id": "da1532ca"
      },
      "outputs": [],
      "source": [
        "from sklearn.preprocessing import StandardScaler\n",
        "from sklearn.preprocessing import LabelEncoder\n",
        "\n",
        "from sklearn.tree import DecisionTreeClassifier\n",
        "from sklearn.linear_model import LogisticRegression\n",
        "from sklearn.model_selection import train_test_split\n",
        "from sklearn.metrics import accuracy_score\n",
        "from sklearn import metrics\n",
        "from sklearn.metrics import roc_curve\n",
        "from sklearn.metrics import recall_score, confusion_matrix, precision_score, f1_score, accuracy_score, classification_report"
      ]
    },
    {
      "cell_type": "code",
      "execution_count": null,
      "id": "7846ba48",
      "metadata": {
        "id": "7846ba48",
        "outputId": "fe9aa501-d0be-4146-b40d-f58f35c29af4"
      },
      "outputs": [
        {
          "data": {
            "text/html": [
              "<div>\n",
              "<style scoped>\n",
              "    .dataframe tbody tr th:only-of-type {\n",
              "        vertical-align: middle;\n",
              "    }\n",
              "\n",
              "    .dataframe tbody tr th {\n",
              "        vertical-align: top;\n",
              "    }\n",
              "\n",
              "    .dataframe thead th {\n",
              "        text-align: right;\n",
              "    }\n",
              "</style>\n",
              "<table border=\"1\" class=\"dataframe\">\n",
              "  <thead>\n",
              "    <tr style=\"text-align: right;\">\n",
              "      <th></th>\n",
              "      <th>customerID</th>\n",
              "      <th>gender</th>\n",
              "      <th>SeniorCitizen</th>\n",
              "      <th>Partner</th>\n",
              "      <th>Dependents</th>\n",
              "      <th>tenure</th>\n",
              "      <th>PhoneService</th>\n",
              "      <th>MultipleLines</th>\n",
              "      <th>InternetService</th>\n",
              "      <th>OnlineSecurity</th>\n",
              "      <th>...</th>\n",
              "      <th>DeviceProtection</th>\n",
              "      <th>TechSupport</th>\n",
              "      <th>StreamingTV</th>\n",
              "      <th>StreamingMovies</th>\n",
              "      <th>Contract</th>\n",
              "      <th>PaperlessBilling</th>\n",
              "      <th>PaymentMethod</th>\n",
              "      <th>MonthlyCharges</th>\n",
              "      <th>TotalCharges</th>\n",
              "      <th>Churn</th>\n",
              "    </tr>\n",
              "  </thead>\n",
              "  <tbody>\n",
              "    <tr>\n",
              "      <th>0</th>\n",
              "      <td>7590-VHVEG</td>\n",
              "      <td>Female</td>\n",
              "      <td>0</td>\n",
              "      <td>Yes</td>\n",
              "      <td>No</td>\n",
              "      <td>1</td>\n",
              "      <td>No</td>\n",
              "      <td>No phone service</td>\n",
              "      <td>DSL</td>\n",
              "      <td>No</td>\n",
              "      <td>...</td>\n",
              "      <td>No</td>\n",
              "      <td>No</td>\n",
              "      <td>No</td>\n",
              "      <td>No</td>\n",
              "      <td>Month-to-month</td>\n",
              "      <td>Yes</td>\n",
              "      <td>Electronic check</td>\n",
              "      <td>29.85</td>\n",
              "      <td>29.85</td>\n",
              "      <td>No</td>\n",
              "    </tr>\n",
              "    <tr>\n",
              "      <th>1</th>\n",
              "      <td>5575-GNVDE</td>\n",
              "      <td>Male</td>\n",
              "      <td>0</td>\n",
              "      <td>No</td>\n",
              "      <td>No</td>\n",
              "      <td>34</td>\n",
              "      <td>Yes</td>\n",
              "      <td>No</td>\n",
              "      <td>DSL</td>\n",
              "      <td>Yes</td>\n",
              "      <td>...</td>\n",
              "      <td>Yes</td>\n",
              "      <td>No</td>\n",
              "      <td>No</td>\n",
              "      <td>No</td>\n",
              "      <td>One year</td>\n",
              "      <td>No</td>\n",
              "      <td>Mailed check</td>\n",
              "      <td>56.95</td>\n",
              "      <td>1889.5</td>\n",
              "      <td>No</td>\n",
              "    </tr>\n",
              "    <tr>\n",
              "      <th>2</th>\n",
              "      <td>3668-QPYBK</td>\n",
              "      <td>Male</td>\n",
              "      <td>0</td>\n",
              "      <td>No</td>\n",
              "      <td>No</td>\n",
              "      <td>2</td>\n",
              "      <td>Yes</td>\n",
              "      <td>No</td>\n",
              "      <td>DSL</td>\n",
              "      <td>Yes</td>\n",
              "      <td>...</td>\n",
              "      <td>No</td>\n",
              "      <td>No</td>\n",
              "      <td>No</td>\n",
              "      <td>No</td>\n",
              "      <td>Month-to-month</td>\n",
              "      <td>Yes</td>\n",
              "      <td>Mailed check</td>\n",
              "      <td>53.85</td>\n",
              "      <td>108.15</td>\n",
              "      <td>Yes</td>\n",
              "    </tr>\n",
              "    <tr>\n",
              "      <th>3</th>\n",
              "      <td>7795-CFOCW</td>\n",
              "      <td>Male</td>\n",
              "      <td>0</td>\n",
              "      <td>No</td>\n",
              "      <td>No</td>\n",
              "      <td>45</td>\n",
              "      <td>No</td>\n",
              "      <td>No phone service</td>\n",
              "      <td>DSL</td>\n",
              "      <td>Yes</td>\n",
              "      <td>...</td>\n",
              "      <td>Yes</td>\n",
              "      <td>Yes</td>\n",
              "      <td>No</td>\n",
              "      <td>No</td>\n",
              "      <td>One year</td>\n",
              "      <td>No</td>\n",
              "      <td>Bank transfer (automatic)</td>\n",
              "      <td>42.30</td>\n",
              "      <td>1840.75</td>\n",
              "      <td>No</td>\n",
              "    </tr>\n",
              "    <tr>\n",
              "      <th>4</th>\n",
              "      <td>9237-HQITU</td>\n",
              "      <td>Female</td>\n",
              "      <td>0</td>\n",
              "      <td>No</td>\n",
              "      <td>No</td>\n",
              "      <td>2</td>\n",
              "      <td>Yes</td>\n",
              "      <td>No</td>\n",
              "      <td>Fiber optic</td>\n",
              "      <td>No</td>\n",
              "      <td>...</td>\n",
              "      <td>No</td>\n",
              "      <td>No</td>\n",
              "      <td>No</td>\n",
              "      <td>No</td>\n",
              "      <td>Month-to-month</td>\n",
              "      <td>Yes</td>\n",
              "      <td>Electronic check</td>\n",
              "      <td>70.70</td>\n",
              "      <td>151.65</td>\n",
              "      <td>Yes</td>\n",
              "    </tr>\n",
              "  </tbody>\n",
              "</table>\n",
              "<p>5 rows × 21 columns</p>\n",
              "</div>"
            ],
            "text/plain": [
              "   customerID  gender  SeniorCitizen Partner Dependents  tenure PhoneService  \\\n",
              "0  7590-VHVEG  Female              0     Yes         No       1           No   \n",
              "1  5575-GNVDE    Male              0      No         No      34          Yes   \n",
              "2  3668-QPYBK    Male              0      No         No       2          Yes   \n",
              "3  7795-CFOCW    Male              0      No         No      45           No   \n",
              "4  9237-HQITU  Female              0      No         No       2          Yes   \n",
              "\n",
              "      MultipleLines InternetService OnlineSecurity  ... DeviceProtection  \\\n",
              "0  No phone service             DSL             No  ...               No   \n",
              "1                No             DSL            Yes  ...              Yes   \n",
              "2                No             DSL            Yes  ...               No   \n",
              "3  No phone service             DSL            Yes  ...              Yes   \n",
              "4                No     Fiber optic             No  ...               No   \n",
              "\n",
              "  TechSupport StreamingTV StreamingMovies        Contract PaperlessBilling  \\\n",
              "0          No          No              No  Month-to-month              Yes   \n",
              "1          No          No              No        One year               No   \n",
              "2          No          No              No  Month-to-month              Yes   \n",
              "3         Yes          No              No        One year               No   \n",
              "4          No          No              No  Month-to-month              Yes   \n",
              "\n",
              "               PaymentMethod MonthlyCharges  TotalCharges Churn  \n",
              "0           Electronic check          29.85         29.85    No  \n",
              "1               Mailed check          56.95        1889.5    No  \n",
              "2               Mailed check          53.85        108.15   Yes  \n",
              "3  Bank transfer (automatic)          42.30       1840.75    No  \n",
              "4           Electronic check          70.70        151.65   Yes  \n",
              "\n",
              "[5 rows x 21 columns]"
            ]
          },
          "execution_count": 4,
          "metadata": {},
          "output_type": "execute_result"
        }
      ],
      "source": [
        "df=pd.read_csv('C:\\\\Users\\\\91620\\\\Desktop\\\\WA_Fn-UseC_-Telco-Customer-Churn.csv')\n",
        "df.head()"
      ]
    },
    {
      "cell_type": "markdown",
      "id": "bf6f9b15",
      "metadata": {
        "id": "bf6f9b15"
      },
      "source": [
        "Each row in this dataset represent various attributes of customer.\n",
        "The Churn coloumn represnts the customers who left within last month.\n",
        "\n",
        "We get to know some personal details of the customer such as gender, are they seneior citizen( rough approximation of age), do they have partners and dependents.\n",
        "\n",
        "We also get to know various account details of the person such as :how long they’ve been a customer, contract, payment method, paperless billing, monthly charges, and total charges\n",
        "\n",
        "We also get to know about various services that they have signed up for: phone, multiple lines, internet, online security, online backup, device protection, tech support, and streaming TV and movies"
      ]
    },
    {
      "cell_type": "code",
      "execution_count": null,
      "id": "ddbdd191",
      "metadata": {
        "id": "ddbdd191",
        "outputId": "be32b679-b200-4d9c-9917-2ad55bcac046"
      },
      "outputs": [
        {
          "data": {
            "text/plain": [
              "(7043, 21)"
            ]
          },
          "execution_count": 5,
          "metadata": {},
          "output_type": "execute_result"
        }
      ],
      "source": [
        "df.shape"
      ]
    },
    {
      "cell_type": "code",
      "execution_count": null,
      "id": "058610be",
      "metadata": {
        "id": "058610be",
        "outputId": "c03c1798-c631-4275-e918-5ebbccbcdde5"
      },
      "outputs": [
        {
          "name": "stdout",
          "output_type": "stream",
          "text": [
            "<class 'pandas.core.frame.DataFrame'>\n",
            "RangeIndex: 7043 entries, 0 to 7042\n",
            "Data columns (total 21 columns):\n",
            " #   Column            Non-Null Count  Dtype  \n",
            "---  ------            --------------  -----  \n",
            " 0   customerID        7043 non-null   object \n",
            " 1   gender            7043 non-null   object \n",
            " 2   SeniorCitizen     7043 non-null   int64  \n",
            " 3   Partner           7043 non-null   object \n",
            " 4   Dependents        7043 non-null   object \n",
            " 5   tenure            7043 non-null   int64  \n",
            " 6   PhoneService      7043 non-null   object \n",
            " 7   MultipleLines     7043 non-null   object \n",
            " 8   InternetService   7043 non-null   object \n",
            " 9   OnlineSecurity    7043 non-null   object \n",
            " 10  OnlineBackup      7043 non-null   object \n",
            " 11  DeviceProtection  7043 non-null   object \n",
            " 12  TechSupport       7043 non-null   object \n",
            " 13  StreamingTV       7043 non-null   object \n",
            " 14  StreamingMovies   7043 non-null   object \n",
            " 15  Contract          7043 non-null   object \n",
            " 16  PaperlessBilling  7043 non-null   object \n",
            " 17  PaymentMethod     7043 non-null   object \n",
            " 18  MonthlyCharges    7043 non-null   float64\n",
            " 19  TotalCharges      7043 non-null   object \n",
            " 20  Churn             7043 non-null   object \n",
            "dtypes: float64(1), int64(2), object(18)\n",
            "memory usage: 1.1+ MB\n"
          ]
        }
      ],
      "source": [
        "df.info()"
      ]
    },
    {
      "cell_type": "code",
      "execution_count": null,
      "id": "32e41ce0",
      "metadata": {
        "id": "32e41ce0",
        "outputId": "ec545f9a-4d3b-4e94-b268-a161b59f4a30"
      },
      "outputs": [
        {
          "data": {
            "text/plain": [
              "array(['customerID', 'gender', 'SeniorCitizen', 'Partner', 'Dependents',\n",
              "       'tenure', 'PhoneService', 'MultipleLines', 'InternetService',\n",
              "       'OnlineSecurity', 'OnlineBackup', 'DeviceProtection',\n",
              "       'TechSupport', 'StreamingTV', 'StreamingMovies', 'Contract',\n",
              "       'PaperlessBilling', 'PaymentMethod', 'MonthlyCharges',\n",
              "       'TotalCharges', 'Churn'], dtype=object)"
            ]
          },
          "execution_count": 7,
          "metadata": {},
          "output_type": "execute_result"
        }
      ],
      "source": [
        "df.columns.values"
      ]
    },
    {
      "cell_type": "markdown",
      "id": "a90a84c7",
      "metadata": {
        "id": "a90a84c7"
      },
      "source": [
        "The target the we will use to guide the exploration is Churn"
      ]
    },
    {
      "cell_type": "markdown",
      "id": "a4db790d",
      "metadata": {
        "id": "a4db790d"
      },
      "source": [
        "Now we would be manipulating our data to try to work only with the useful data that provide some valuable basis for analysis."
      ]
    },
    {
      "cell_type": "code",
      "execution_count": null,
      "id": "18590881",
      "metadata": {
        "id": "18590881",
        "outputId": "84dea3f5-fc01-4961-851e-56bfe086bd8e"
      },
      "outputs": [
        {
          "data": {
            "text/html": [
              "<div>\n",
              "<style scoped>\n",
              "    .dataframe tbody tr th:only-of-type {\n",
              "        vertical-align: middle;\n",
              "    }\n",
              "\n",
              "    .dataframe tbody tr th {\n",
              "        vertical-align: top;\n",
              "    }\n",
              "\n",
              "    .dataframe thead th {\n",
              "        text-align: right;\n",
              "    }\n",
              "</style>\n",
              "<table border=\"1\" class=\"dataframe\">\n",
              "  <thead>\n",
              "    <tr style=\"text-align: right;\">\n",
              "      <th></th>\n",
              "      <th>gender</th>\n",
              "      <th>SeniorCitizen</th>\n",
              "      <th>Partner</th>\n",
              "      <th>Dependents</th>\n",
              "      <th>tenure</th>\n",
              "      <th>PhoneService</th>\n",
              "      <th>MultipleLines</th>\n",
              "      <th>InternetService</th>\n",
              "      <th>OnlineSecurity</th>\n",
              "      <th>OnlineBackup</th>\n",
              "      <th>DeviceProtection</th>\n",
              "      <th>TechSupport</th>\n",
              "      <th>StreamingTV</th>\n",
              "      <th>StreamingMovies</th>\n",
              "      <th>Contract</th>\n",
              "      <th>PaperlessBilling</th>\n",
              "      <th>PaymentMethod</th>\n",
              "      <th>MonthlyCharges</th>\n",
              "      <th>TotalCharges</th>\n",
              "      <th>Churn</th>\n",
              "    </tr>\n",
              "  </thead>\n",
              "  <tbody>\n",
              "    <tr>\n",
              "      <th>0</th>\n",
              "      <td>Female</td>\n",
              "      <td>0</td>\n",
              "      <td>Yes</td>\n",
              "      <td>No</td>\n",
              "      <td>1</td>\n",
              "      <td>No</td>\n",
              "      <td>No phone service</td>\n",
              "      <td>DSL</td>\n",
              "      <td>No</td>\n",
              "      <td>Yes</td>\n",
              "      <td>No</td>\n",
              "      <td>No</td>\n",
              "      <td>No</td>\n",
              "      <td>No</td>\n",
              "      <td>Month-to-month</td>\n",
              "      <td>Yes</td>\n",
              "      <td>Electronic check</td>\n",
              "      <td>29.85</td>\n",
              "      <td>29.85</td>\n",
              "      <td>No</td>\n",
              "    </tr>\n",
              "    <tr>\n",
              "      <th>1</th>\n",
              "      <td>Male</td>\n",
              "      <td>0</td>\n",
              "      <td>No</td>\n",
              "      <td>No</td>\n",
              "      <td>34</td>\n",
              "      <td>Yes</td>\n",
              "      <td>No</td>\n",
              "      <td>DSL</td>\n",
              "      <td>Yes</td>\n",
              "      <td>No</td>\n",
              "      <td>Yes</td>\n",
              "      <td>No</td>\n",
              "      <td>No</td>\n",
              "      <td>No</td>\n",
              "      <td>One year</td>\n",
              "      <td>No</td>\n",
              "      <td>Mailed check</td>\n",
              "      <td>56.95</td>\n",
              "      <td>1889.5</td>\n",
              "      <td>No</td>\n",
              "    </tr>\n",
              "    <tr>\n",
              "      <th>2</th>\n",
              "      <td>Male</td>\n",
              "      <td>0</td>\n",
              "      <td>No</td>\n",
              "      <td>No</td>\n",
              "      <td>2</td>\n",
              "      <td>Yes</td>\n",
              "      <td>No</td>\n",
              "      <td>DSL</td>\n",
              "      <td>Yes</td>\n",
              "      <td>Yes</td>\n",
              "      <td>No</td>\n",
              "      <td>No</td>\n",
              "      <td>No</td>\n",
              "      <td>No</td>\n",
              "      <td>Month-to-month</td>\n",
              "      <td>Yes</td>\n",
              "      <td>Mailed check</td>\n",
              "      <td>53.85</td>\n",
              "      <td>108.15</td>\n",
              "      <td>Yes</td>\n",
              "    </tr>\n",
              "    <tr>\n",
              "      <th>3</th>\n",
              "      <td>Male</td>\n",
              "      <td>0</td>\n",
              "      <td>No</td>\n",
              "      <td>No</td>\n",
              "      <td>45</td>\n",
              "      <td>No</td>\n",
              "      <td>No phone service</td>\n",
              "      <td>DSL</td>\n",
              "      <td>Yes</td>\n",
              "      <td>No</td>\n",
              "      <td>Yes</td>\n",
              "      <td>Yes</td>\n",
              "      <td>No</td>\n",
              "      <td>No</td>\n",
              "      <td>One year</td>\n",
              "      <td>No</td>\n",
              "      <td>Bank transfer (automatic)</td>\n",
              "      <td>42.30</td>\n",
              "      <td>1840.75</td>\n",
              "      <td>No</td>\n",
              "    </tr>\n",
              "    <tr>\n",
              "      <th>4</th>\n",
              "      <td>Female</td>\n",
              "      <td>0</td>\n",
              "      <td>No</td>\n",
              "      <td>No</td>\n",
              "      <td>2</td>\n",
              "      <td>Yes</td>\n",
              "      <td>No</td>\n",
              "      <td>Fiber optic</td>\n",
              "      <td>No</td>\n",
              "      <td>No</td>\n",
              "      <td>No</td>\n",
              "      <td>No</td>\n",
              "      <td>No</td>\n",
              "      <td>No</td>\n",
              "      <td>Month-to-month</td>\n",
              "      <td>Yes</td>\n",
              "      <td>Electronic check</td>\n",
              "      <td>70.70</td>\n",
              "      <td>151.65</td>\n",
              "      <td>Yes</td>\n",
              "    </tr>\n",
              "  </tbody>\n",
              "</table>\n",
              "</div>"
            ],
            "text/plain": [
              "   gender  SeniorCitizen Partner Dependents  tenure PhoneService  \\\n",
              "0  Female              0     Yes         No       1           No   \n",
              "1    Male              0      No         No      34          Yes   \n",
              "2    Male              0      No         No       2          Yes   \n",
              "3    Male              0      No         No      45           No   \n",
              "4  Female              0      No         No       2          Yes   \n",
              "\n",
              "      MultipleLines InternetService OnlineSecurity OnlineBackup  \\\n",
              "0  No phone service             DSL             No          Yes   \n",
              "1                No             DSL            Yes           No   \n",
              "2                No             DSL            Yes          Yes   \n",
              "3  No phone service             DSL            Yes           No   \n",
              "4                No     Fiber optic             No           No   \n",
              "\n",
              "  DeviceProtection TechSupport StreamingTV StreamingMovies        Contract  \\\n",
              "0               No          No          No              No  Month-to-month   \n",
              "1              Yes          No          No              No        One year   \n",
              "2               No          No          No              No  Month-to-month   \n",
              "3              Yes         Yes          No              No        One year   \n",
              "4               No          No          No              No  Month-to-month   \n",
              "\n",
              "  PaperlessBilling              PaymentMethod  MonthlyCharges TotalCharges  \\\n",
              "0              Yes           Electronic check           29.85        29.85   \n",
              "1               No               Mailed check           56.95       1889.5   \n",
              "2              Yes               Mailed check           53.85       108.15   \n",
              "3               No  Bank transfer (automatic)           42.30      1840.75   \n",
              "4              Yes           Electronic check           70.70       151.65   \n",
              "\n",
              "  Churn  \n",
              "0    No  \n",
              "1    No  \n",
              "2   Yes  \n",
              "3    No  \n",
              "4   Yes  "
            ]
          },
          "execution_count": 8,
          "metadata": {},
          "output_type": "execute_result"
        }
      ],
      "source": [
        "\n",
        "\n",
        "df = df.drop(['customerID'], axis = 1)\n",
        "df.head()"
      ]
    },
    {
      "cell_type": "markdown",
      "id": "686dd46c",
      "metadata": {
        "id": "686dd46c"
      },
      "source": [
        "On deep analysis, we can find some indirect missingness in our data (which can be in form of blankspaces). Let's see that!"
      ]
    },
    {
      "cell_type": "code",
      "execution_count": null,
      "id": "4d2edc6f",
      "metadata": {
        "id": "4d2edc6f",
        "outputId": "42f9203d-c739-4ff9-ed13-efaeaff617d0"
      },
      "outputs": [
        {
          "data": {
            "text/plain": [
              "gender               0\n",
              "SeniorCitizen        0\n",
              "Partner              0\n",
              "Dependents           0\n",
              "tenure               0\n",
              "PhoneService         0\n",
              "MultipleLines        0\n",
              "InternetService      0\n",
              "OnlineSecurity       0\n",
              "OnlineBackup         0\n",
              "DeviceProtection     0\n",
              "TechSupport          0\n",
              "StreamingTV          0\n",
              "StreamingMovies      0\n",
              "Contract             0\n",
              "PaperlessBilling     0\n",
              "PaymentMethod        0\n",
              "MonthlyCharges       0\n",
              "TotalCharges        11\n",
              "Churn                0\n",
              "dtype: int64"
            ]
          },
          "execution_count": 9,
          "metadata": {},
          "output_type": "execute_result"
        }
      ],
      "source": [
        "df['TotalCharges'] = pd.to_numeric(df.TotalCharges, errors='coerce')\n",
        "df.isnull().sum()"
      ]
    },
    {
      "cell_type": "markdown",
      "id": "510f4890",
      "metadata": {
        "id": "510f4890"
      },
      "source": [
        "Here we see that the TotalCharges has 11 missing values. Let's check this data."
      ]
    },
    {
      "cell_type": "code",
      "execution_count": null,
      "id": "01572688",
      "metadata": {
        "id": "01572688",
        "outputId": "77390d81-0310-4a57-c767-aa5d1cf20d0f"
      },
      "outputs": [
        {
          "data": {
            "text/html": [
              "<div>\n",
              "<style scoped>\n",
              "    .dataframe tbody tr th:only-of-type {\n",
              "        vertical-align: middle;\n",
              "    }\n",
              "\n",
              "    .dataframe tbody tr th {\n",
              "        vertical-align: top;\n",
              "    }\n",
              "\n",
              "    .dataframe thead th {\n",
              "        text-align: right;\n",
              "    }\n",
              "</style>\n",
              "<table border=\"1\" class=\"dataframe\">\n",
              "  <thead>\n",
              "    <tr style=\"text-align: right;\">\n",
              "      <th></th>\n",
              "      <th>gender</th>\n",
              "      <th>SeniorCitizen</th>\n",
              "      <th>Partner</th>\n",
              "      <th>Dependents</th>\n",
              "      <th>tenure</th>\n",
              "      <th>PhoneService</th>\n",
              "      <th>MultipleLines</th>\n",
              "      <th>InternetService</th>\n",
              "      <th>OnlineSecurity</th>\n",
              "      <th>OnlineBackup</th>\n",
              "      <th>DeviceProtection</th>\n",
              "      <th>TechSupport</th>\n",
              "      <th>StreamingTV</th>\n",
              "      <th>StreamingMovies</th>\n",
              "      <th>Contract</th>\n",
              "      <th>PaperlessBilling</th>\n",
              "      <th>PaymentMethod</th>\n",
              "      <th>MonthlyCharges</th>\n",
              "      <th>TotalCharges</th>\n",
              "      <th>Churn</th>\n",
              "    </tr>\n",
              "  </thead>\n",
              "  <tbody>\n",
              "    <tr>\n",
              "      <th>488</th>\n",
              "      <td>Female</td>\n",
              "      <td>0</td>\n",
              "      <td>Yes</td>\n",
              "      <td>Yes</td>\n",
              "      <td>0</td>\n",
              "      <td>No</td>\n",
              "      <td>No phone service</td>\n",
              "      <td>DSL</td>\n",
              "      <td>Yes</td>\n",
              "      <td>No</td>\n",
              "      <td>Yes</td>\n",
              "      <td>Yes</td>\n",
              "      <td>Yes</td>\n",
              "      <td>No</td>\n",
              "      <td>Two year</td>\n",
              "      <td>Yes</td>\n",
              "      <td>Bank transfer (automatic)</td>\n",
              "      <td>52.55</td>\n",
              "      <td>NaN</td>\n",
              "      <td>No</td>\n",
              "    </tr>\n",
              "    <tr>\n",
              "      <th>753</th>\n",
              "      <td>Male</td>\n",
              "      <td>0</td>\n",
              "      <td>No</td>\n",
              "      <td>Yes</td>\n",
              "      <td>0</td>\n",
              "      <td>Yes</td>\n",
              "      <td>No</td>\n",
              "      <td>No</td>\n",
              "      <td>No internet service</td>\n",
              "      <td>No internet service</td>\n",
              "      <td>No internet service</td>\n",
              "      <td>No internet service</td>\n",
              "      <td>No internet service</td>\n",
              "      <td>No internet service</td>\n",
              "      <td>Two year</td>\n",
              "      <td>No</td>\n",
              "      <td>Mailed check</td>\n",
              "      <td>20.25</td>\n",
              "      <td>NaN</td>\n",
              "      <td>No</td>\n",
              "    </tr>\n",
              "    <tr>\n",
              "      <th>936</th>\n",
              "      <td>Female</td>\n",
              "      <td>0</td>\n",
              "      <td>Yes</td>\n",
              "      <td>Yes</td>\n",
              "      <td>0</td>\n",
              "      <td>Yes</td>\n",
              "      <td>No</td>\n",
              "      <td>DSL</td>\n",
              "      <td>Yes</td>\n",
              "      <td>Yes</td>\n",
              "      <td>Yes</td>\n",
              "      <td>No</td>\n",
              "      <td>Yes</td>\n",
              "      <td>Yes</td>\n",
              "      <td>Two year</td>\n",
              "      <td>No</td>\n",
              "      <td>Mailed check</td>\n",
              "      <td>80.85</td>\n",
              "      <td>NaN</td>\n",
              "      <td>No</td>\n",
              "    </tr>\n",
              "    <tr>\n",
              "      <th>1082</th>\n",
              "      <td>Male</td>\n",
              "      <td>0</td>\n",
              "      <td>Yes</td>\n",
              "      <td>Yes</td>\n",
              "      <td>0</td>\n",
              "      <td>Yes</td>\n",
              "      <td>Yes</td>\n",
              "      <td>No</td>\n",
              "      <td>No internet service</td>\n",
              "      <td>No internet service</td>\n",
              "      <td>No internet service</td>\n",
              "      <td>No internet service</td>\n",
              "      <td>No internet service</td>\n",
              "      <td>No internet service</td>\n",
              "      <td>Two year</td>\n",
              "      <td>No</td>\n",
              "      <td>Mailed check</td>\n",
              "      <td>25.75</td>\n",
              "      <td>NaN</td>\n",
              "      <td>No</td>\n",
              "    </tr>\n",
              "    <tr>\n",
              "      <th>1340</th>\n",
              "      <td>Female</td>\n",
              "      <td>0</td>\n",
              "      <td>Yes</td>\n",
              "      <td>Yes</td>\n",
              "      <td>0</td>\n",
              "      <td>No</td>\n",
              "      <td>No phone service</td>\n",
              "      <td>DSL</td>\n",
              "      <td>Yes</td>\n",
              "      <td>Yes</td>\n",
              "      <td>Yes</td>\n",
              "      <td>Yes</td>\n",
              "      <td>Yes</td>\n",
              "      <td>No</td>\n",
              "      <td>Two year</td>\n",
              "      <td>No</td>\n",
              "      <td>Credit card (automatic)</td>\n",
              "      <td>56.05</td>\n",
              "      <td>NaN</td>\n",
              "      <td>No</td>\n",
              "    </tr>\n",
              "    <tr>\n",
              "      <th>3331</th>\n",
              "      <td>Male</td>\n",
              "      <td>0</td>\n",
              "      <td>Yes</td>\n",
              "      <td>Yes</td>\n",
              "      <td>0</td>\n",
              "      <td>Yes</td>\n",
              "      <td>No</td>\n",
              "      <td>No</td>\n",
              "      <td>No internet service</td>\n",
              "      <td>No internet service</td>\n",
              "      <td>No internet service</td>\n",
              "      <td>No internet service</td>\n",
              "      <td>No internet service</td>\n",
              "      <td>No internet service</td>\n",
              "      <td>Two year</td>\n",
              "      <td>No</td>\n",
              "      <td>Mailed check</td>\n",
              "      <td>19.85</td>\n",
              "      <td>NaN</td>\n",
              "      <td>No</td>\n",
              "    </tr>\n",
              "    <tr>\n",
              "      <th>3826</th>\n",
              "      <td>Male</td>\n",
              "      <td>0</td>\n",
              "      <td>Yes</td>\n",
              "      <td>Yes</td>\n",
              "      <td>0</td>\n",
              "      <td>Yes</td>\n",
              "      <td>Yes</td>\n",
              "      <td>No</td>\n",
              "      <td>No internet service</td>\n",
              "      <td>No internet service</td>\n",
              "      <td>No internet service</td>\n",
              "      <td>No internet service</td>\n",
              "      <td>No internet service</td>\n",
              "      <td>No internet service</td>\n",
              "      <td>Two year</td>\n",
              "      <td>No</td>\n",
              "      <td>Mailed check</td>\n",
              "      <td>25.35</td>\n",
              "      <td>NaN</td>\n",
              "      <td>No</td>\n",
              "    </tr>\n",
              "    <tr>\n",
              "      <th>4380</th>\n",
              "      <td>Female</td>\n",
              "      <td>0</td>\n",
              "      <td>Yes</td>\n",
              "      <td>Yes</td>\n",
              "      <td>0</td>\n",
              "      <td>Yes</td>\n",
              "      <td>No</td>\n",
              "      <td>No</td>\n",
              "      <td>No internet service</td>\n",
              "      <td>No internet service</td>\n",
              "      <td>No internet service</td>\n",
              "      <td>No internet service</td>\n",
              "      <td>No internet service</td>\n",
              "      <td>No internet service</td>\n",
              "      <td>Two year</td>\n",
              "      <td>No</td>\n",
              "      <td>Mailed check</td>\n",
              "      <td>20.00</td>\n",
              "      <td>NaN</td>\n",
              "      <td>No</td>\n",
              "    </tr>\n",
              "    <tr>\n",
              "      <th>5218</th>\n",
              "      <td>Male</td>\n",
              "      <td>0</td>\n",
              "      <td>Yes</td>\n",
              "      <td>Yes</td>\n",
              "      <td>0</td>\n",
              "      <td>Yes</td>\n",
              "      <td>No</td>\n",
              "      <td>No</td>\n",
              "      <td>No internet service</td>\n",
              "      <td>No internet service</td>\n",
              "      <td>No internet service</td>\n",
              "      <td>No internet service</td>\n",
              "      <td>No internet service</td>\n",
              "      <td>No internet service</td>\n",
              "      <td>One year</td>\n",
              "      <td>Yes</td>\n",
              "      <td>Mailed check</td>\n",
              "      <td>19.70</td>\n",
              "      <td>NaN</td>\n",
              "      <td>No</td>\n",
              "    </tr>\n",
              "    <tr>\n",
              "      <th>6670</th>\n",
              "      <td>Female</td>\n",
              "      <td>0</td>\n",
              "      <td>Yes</td>\n",
              "      <td>Yes</td>\n",
              "      <td>0</td>\n",
              "      <td>Yes</td>\n",
              "      <td>Yes</td>\n",
              "      <td>DSL</td>\n",
              "      <td>No</td>\n",
              "      <td>Yes</td>\n",
              "      <td>Yes</td>\n",
              "      <td>Yes</td>\n",
              "      <td>Yes</td>\n",
              "      <td>No</td>\n",
              "      <td>Two year</td>\n",
              "      <td>No</td>\n",
              "      <td>Mailed check</td>\n",
              "      <td>73.35</td>\n",
              "      <td>NaN</td>\n",
              "      <td>No</td>\n",
              "    </tr>\n",
              "    <tr>\n",
              "      <th>6754</th>\n",
              "      <td>Male</td>\n",
              "      <td>0</td>\n",
              "      <td>No</td>\n",
              "      <td>Yes</td>\n",
              "      <td>0</td>\n",
              "      <td>Yes</td>\n",
              "      <td>Yes</td>\n",
              "      <td>DSL</td>\n",
              "      <td>Yes</td>\n",
              "      <td>Yes</td>\n",
              "      <td>No</td>\n",
              "      <td>Yes</td>\n",
              "      <td>No</td>\n",
              "      <td>No</td>\n",
              "      <td>Two year</td>\n",
              "      <td>Yes</td>\n",
              "      <td>Bank transfer (automatic)</td>\n",
              "      <td>61.90</td>\n",
              "      <td>NaN</td>\n",
              "      <td>No</td>\n",
              "    </tr>\n",
              "  </tbody>\n",
              "</table>\n",
              "</div>"
            ],
            "text/plain": [
              "      gender  SeniorCitizen Partner Dependents  tenure PhoneService  \\\n",
              "488   Female              0     Yes        Yes       0           No   \n",
              "753     Male              0      No        Yes       0          Yes   \n",
              "936   Female              0     Yes        Yes       0          Yes   \n",
              "1082    Male              0     Yes        Yes       0          Yes   \n",
              "1340  Female              0     Yes        Yes       0           No   \n",
              "3331    Male              0     Yes        Yes       0          Yes   \n",
              "3826    Male              0     Yes        Yes       0          Yes   \n",
              "4380  Female              0     Yes        Yes       0          Yes   \n",
              "5218    Male              0     Yes        Yes       0          Yes   \n",
              "6670  Female              0     Yes        Yes       0          Yes   \n",
              "6754    Male              0      No        Yes       0          Yes   \n",
              "\n",
              "         MultipleLines InternetService       OnlineSecurity  \\\n",
              "488   No phone service             DSL                  Yes   \n",
              "753                 No              No  No internet service   \n",
              "936                 No             DSL                  Yes   \n",
              "1082               Yes              No  No internet service   \n",
              "1340  No phone service             DSL                  Yes   \n",
              "3331                No              No  No internet service   \n",
              "3826               Yes              No  No internet service   \n",
              "4380                No              No  No internet service   \n",
              "5218                No              No  No internet service   \n",
              "6670               Yes             DSL                   No   \n",
              "6754               Yes             DSL                  Yes   \n",
              "\n",
              "             OnlineBackup     DeviceProtection          TechSupport  \\\n",
              "488                    No                  Yes                  Yes   \n",
              "753   No internet service  No internet service  No internet service   \n",
              "936                   Yes                  Yes                   No   \n",
              "1082  No internet service  No internet service  No internet service   \n",
              "1340                  Yes                  Yes                  Yes   \n",
              "3331  No internet service  No internet service  No internet service   \n",
              "3826  No internet service  No internet service  No internet service   \n",
              "4380  No internet service  No internet service  No internet service   \n",
              "5218  No internet service  No internet service  No internet service   \n",
              "6670                  Yes                  Yes                  Yes   \n",
              "6754                  Yes                   No                  Yes   \n",
              "\n",
              "              StreamingTV      StreamingMovies  Contract PaperlessBilling  \\\n",
              "488                   Yes                   No  Two year              Yes   \n",
              "753   No internet service  No internet service  Two year               No   \n",
              "936                   Yes                  Yes  Two year               No   \n",
              "1082  No internet service  No internet service  Two year               No   \n",
              "1340                  Yes                   No  Two year               No   \n",
              "3331  No internet service  No internet service  Two year               No   \n",
              "3826  No internet service  No internet service  Two year               No   \n",
              "4380  No internet service  No internet service  Two year               No   \n",
              "5218  No internet service  No internet service  One year              Yes   \n",
              "6670                  Yes                   No  Two year               No   \n",
              "6754                   No                   No  Two year              Yes   \n",
              "\n",
              "                  PaymentMethod  MonthlyCharges  TotalCharges Churn  \n",
              "488   Bank transfer (automatic)           52.55           NaN    No  \n",
              "753                Mailed check           20.25           NaN    No  \n",
              "936                Mailed check           80.85           NaN    No  \n",
              "1082               Mailed check           25.75           NaN    No  \n",
              "1340    Credit card (automatic)           56.05           NaN    No  \n",
              "3331               Mailed check           19.85           NaN    No  \n",
              "3826               Mailed check           25.35           NaN    No  \n",
              "4380               Mailed check           20.00           NaN    No  \n",
              "5218               Mailed check           19.70           NaN    No  \n",
              "6670               Mailed check           73.35           NaN    No  \n",
              "6754  Bank transfer (automatic)           61.90           NaN    No  "
            ]
          },
          "execution_count": 10,
          "metadata": {},
          "output_type": "execute_result"
        }
      ],
      "source": [
        "df[np.isnan(df['TotalCharges'])]"
      ]
    },
    {
      "cell_type": "markdown",
      "id": "ce09abe8",
      "metadata": {
        "id": "ce09abe8"
      },
      "source": [
        "It can also be noted that the Tenure column is 0 for these entries even though the MonthlyCharges column is not empty.\n",
        "Let's see if there are any other 0 values in the tenure column."
      ]
    },
    {
      "cell_type": "code",
      "execution_count": null,
      "id": "7428c55e",
      "metadata": {
        "id": "7428c55e",
        "outputId": "37f72ab4-7bef-49b6-fe29-233d6d8f02f1"
      },
      "outputs": [
        {
          "data": {
            "text/plain": [
              "Int64Index([488, 753, 936, 1082, 1340, 3331, 3826, 4380, 5218, 6670, 6754], dtype='int64')"
            ]
          },
          "execution_count": 11,
          "metadata": {},
          "output_type": "execute_result"
        }
      ],
      "source": [
        "df[df['tenure'] == 0].index"
      ]
    },
    {
      "cell_type": "markdown",
      "id": "644b41a3",
      "metadata": {
        "id": "644b41a3"
      },
      "source": [
        "There are no additional missing values in the Tenure column.\n",
        "Let's delete the rows with missing values in Tenure columns since there are only 11 rows and deleting them will not affect the data."
      ]
    },
    {
      "cell_type": "code",
      "execution_count": null,
      "id": "28c5de45",
      "metadata": {
        "id": "28c5de45",
        "outputId": "3c49b305-deb2-4256-fe3c-195fdb8bd375"
      },
      "outputs": [
        {
          "data": {
            "text/plain": [
              "Int64Index([], dtype='int64')"
            ]
          },
          "execution_count": 12,
          "metadata": {},
          "output_type": "execute_result"
        }
      ],
      "source": [
        "df.drop(labels=df[df['tenure'] == 0].index, axis=0, inplace=True)\n",
        "df[df['tenure'] == 0].index"
      ]
    },
    {
      "cell_type": "markdown",
      "id": "0ac4fb93",
      "metadata": {
        "id": "0ac4fb93"
      },
      "source": [
        "To solve the problem of missing values in TotalCharges column, I decided to fill it with the mean of TotalCharges values."
      ]
    },
    {
      "cell_type": "code",
      "execution_count": null,
      "id": "ddb0eed9",
      "metadata": {
        "id": "ddb0eed9",
        "outputId": "5b7d196e-2da9-4be5-fdc0-f22f4380fba4"
      },
      "outputs": [
        {
          "data": {
            "text/html": [
              "<div>\n",
              "<style scoped>\n",
              "    .dataframe tbody tr th:only-of-type {\n",
              "        vertical-align: middle;\n",
              "    }\n",
              "\n",
              "    .dataframe tbody tr th {\n",
              "        vertical-align: top;\n",
              "    }\n",
              "\n",
              "    .dataframe thead th {\n",
              "        text-align: right;\n",
              "    }\n",
              "</style>\n",
              "<table border=\"1\" class=\"dataframe\">\n",
              "  <thead>\n",
              "    <tr style=\"text-align: right;\">\n",
              "      <th></th>\n",
              "      <th>gender</th>\n",
              "      <th>SeniorCitizen</th>\n",
              "      <th>Partner</th>\n",
              "      <th>Dependents</th>\n",
              "      <th>tenure</th>\n",
              "      <th>PhoneService</th>\n",
              "      <th>MultipleLines</th>\n",
              "      <th>InternetService</th>\n",
              "      <th>OnlineSecurity</th>\n",
              "      <th>OnlineBackup</th>\n",
              "      <th>DeviceProtection</th>\n",
              "      <th>TechSupport</th>\n",
              "      <th>StreamingTV</th>\n",
              "      <th>StreamingMovies</th>\n",
              "      <th>Contract</th>\n",
              "      <th>PaperlessBilling</th>\n",
              "      <th>PaymentMethod</th>\n",
              "      <th>MonthlyCharges</th>\n",
              "      <th>TotalCharges</th>\n",
              "      <th>Churn</th>\n",
              "    </tr>\n",
              "  </thead>\n",
              "  <tbody>\n",
              "    <tr>\n",
              "      <th>0</th>\n",
              "      <td>Female</td>\n",
              "      <td>0</td>\n",
              "      <td>Yes</td>\n",
              "      <td>No</td>\n",
              "      <td>1</td>\n",
              "      <td>No</td>\n",
              "      <td>No phone service</td>\n",
              "      <td>DSL</td>\n",
              "      <td>No</td>\n",
              "      <td>Yes</td>\n",
              "      <td>No</td>\n",
              "      <td>No</td>\n",
              "      <td>No</td>\n",
              "      <td>No</td>\n",
              "      <td>Month-to-month</td>\n",
              "      <td>Yes</td>\n",
              "      <td>Electronic check</td>\n",
              "      <td>29.85</td>\n",
              "      <td>29.85</td>\n",
              "      <td>No</td>\n",
              "    </tr>\n",
              "    <tr>\n",
              "      <th>1</th>\n",
              "      <td>Male</td>\n",
              "      <td>0</td>\n",
              "      <td>No</td>\n",
              "      <td>No</td>\n",
              "      <td>34</td>\n",
              "      <td>Yes</td>\n",
              "      <td>No</td>\n",
              "      <td>DSL</td>\n",
              "      <td>Yes</td>\n",
              "      <td>No</td>\n",
              "      <td>Yes</td>\n",
              "      <td>No</td>\n",
              "      <td>No</td>\n",
              "      <td>No</td>\n",
              "      <td>One year</td>\n",
              "      <td>No</td>\n",
              "      <td>Mailed check</td>\n",
              "      <td>56.95</td>\n",
              "      <td>1889.50</td>\n",
              "      <td>No</td>\n",
              "    </tr>\n",
              "    <tr>\n",
              "      <th>2</th>\n",
              "      <td>Male</td>\n",
              "      <td>0</td>\n",
              "      <td>No</td>\n",
              "      <td>No</td>\n",
              "      <td>2</td>\n",
              "      <td>Yes</td>\n",
              "      <td>No</td>\n",
              "      <td>DSL</td>\n",
              "      <td>Yes</td>\n",
              "      <td>Yes</td>\n",
              "      <td>No</td>\n",
              "      <td>No</td>\n",
              "      <td>No</td>\n",
              "      <td>No</td>\n",
              "      <td>Month-to-month</td>\n",
              "      <td>Yes</td>\n",
              "      <td>Mailed check</td>\n",
              "      <td>53.85</td>\n",
              "      <td>108.15</td>\n",
              "      <td>Yes</td>\n",
              "    </tr>\n",
              "    <tr>\n",
              "      <th>3</th>\n",
              "      <td>Male</td>\n",
              "      <td>0</td>\n",
              "      <td>No</td>\n",
              "      <td>No</td>\n",
              "      <td>45</td>\n",
              "      <td>No</td>\n",
              "      <td>No phone service</td>\n",
              "      <td>DSL</td>\n",
              "      <td>Yes</td>\n",
              "      <td>No</td>\n",
              "      <td>Yes</td>\n",
              "      <td>Yes</td>\n",
              "      <td>No</td>\n",
              "      <td>No</td>\n",
              "      <td>One year</td>\n",
              "      <td>No</td>\n",
              "      <td>Bank transfer (automatic)</td>\n",
              "      <td>42.30</td>\n",
              "      <td>1840.75</td>\n",
              "      <td>No</td>\n",
              "    </tr>\n",
              "    <tr>\n",
              "      <th>4</th>\n",
              "      <td>Female</td>\n",
              "      <td>0</td>\n",
              "      <td>No</td>\n",
              "      <td>No</td>\n",
              "      <td>2</td>\n",
              "      <td>Yes</td>\n",
              "      <td>No</td>\n",
              "      <td>Fiber optic</td>\n",
              "      <td>No</td>\n",
              "      <td>No</td>\n",
              "      <td>No</td>\n",
              "      <td>No</td>\n",
              "      <td>No</td>\n",
              "      <td>No</td>\n",
              "      <td>Month-to-month</td>\n",
              "      <td>Yes</td>\n",
              "      <td>Electronic check</td>\n",
              "      <td>70.70</td>\n",
              "      <td>151.65</td>\n",
              "      <td>Yes</td>\n",
              "    </tr>\n",
              "    <tr>\n",
              "      <th>...</th>\n",
              "      <td>...</td>\n",
              "      <td>...</td>\n",
              "      <td>...</td>\n",
              "      <td>...</td>\n",
              "      <td>...</td>\n",
              "      <td>...</td>\n",
              "      <td>...</td>\n",
              "      <td>...</td>\n",
              "      <td>...</td>\n",
              "      <td>...</td>\n",
              "      <td>...</td>\n",
              "      <td>...</td>\n",
              "      <td>...</td>\n",
              "      <td>...</td>\n",
              "      <td>...</td>\n",
              "      <td>...</td>\n",
              "      <td>...</td>\n",
              "      <td>...</td>\n",
              "      <td>...</td>\n",
              "      <td>...</td>\n",
              "    </tr>\n",
              "    <tr>\n",
              "      <th>7038</th>\n",
              "      <td>Male</td>\n",
              "      <td>0</td>\n",
              "      <td>Yes</td>\n",
              "      <td>Yes</td>\n",
              "      <td>24</td>\n",
              "      <td>Yes</td>\n",
              "      <td>Yes</td>\n",
              "      <td>DSL</td>\n",
              "      <td>Yes</td>\n",
              "      <td>No</td>\n",
              "      <td>Yes</td>\n",
              "      <td>Yes</td>\n",
              "      <td>Yes</td>\n",
              "      <td>Yes</td>\n",
              "      <td>One year</td>\n",
              "      <td>Yes</td>\n",
              "      <td>Mailed check</td>\n",
              "      <td>84.80</td>\n",
              "      <td>1990.50</td>\n",
              "      <td>No</td>\n",
              "    </tr>\n",
              "    <tr>\n",
              "      <th>7039</th>\n",
              "      <td>Female</td>\n",
              "      <td>0</td>\n",
              "      <td>Yes</td>\n",
              "      <td>Yes</td>\n",
              "      <td>72</td>\n",
              "      <td>Yes</td>\n",
              "      <td>Yes</td>\n",
              "      <td>Fiber optic</td>\n",
              "      <td>No</td>\n",
              "      <td>Yes</td>\n",
              "      <td>Yes</td>\n",
              "      <td>No</td>\n",
              "      <td>Yes</td>\n",
              "      <td>Yes</td>\n",
              "      <td>One year</td>\n",
              "      <td>Yes</td>\n",
              "      <td>Credit card (automatic)</td>\n",
              "      <td>103.20</td>\n",
              "      <td>7362.90</td>\n",
              "      <td>No</td>\n",
              "    </tr>\n",
              "    <tr>\n",
              "      <th>7040</th>\n",
              "      <td>Female</td>\n",
              "      <td>0</td>\n",
              "      <td>Yes</td>\n",
              "      <td>Yes</td>\n",
              "      <td>11</td>\n",
              "      <td>No</td>\n",
              "      <td>No phone service</td>\n",
              "      <td>DSL</td>\n",
              "      <td>Yes</td>\n",
              "      <td>No</td>\n",
              "      <td>No</td>\n",
              "      <td>No</td>\n",
              "      <td>No</td>\n",
              "      <td>No</td>\n",
              "      <td>Month-to-month</td>\n",
              "      <td>Yes</td>\n",
              "      <td>Electronic check</td>\n",
              "      <td>29.60</td>\n",
              "      <td>346.45</td>\n",
              "      <td>No</td>\n",
              "    </tr>\n",
              "    <tr>\n",
              "      <th>7041</th>\n",
              "      <td>Male</td>\n",
              "      <td>1</td>\n",
              "      <td>Yes</td>\n",
              "      <td>No</td>\n",
              "      <td>4</td>\n",
              "      <td>Yes</td>\n",
              "      <td>Yes</td>\n",
              "      <td>Fiber optic</td>\n",
              "      <td>No</td>\n",
              "      <td>No</td>\n",
              "      <td>No</td>\n",
              "      <td>No</td>\n",
              "      <td>No</td>\n",
              "      <td>No</td>\n",
              "      <td>Month-to-month</td>\n",
              "      <td>Yes</td>\n",
              "      <td>Mailed check</td>\n",
              "      <td>74.40</td>\n",
              "      <td>306.60</td>\n",
              "      <td>Yes</td>\n",
              "    </tr>\n",
              "    <tr>\n",
              "      <th>7042</th>\n",
              "      <td>Male</td>\n",
              "      <td>0</td>\n",
              "      <td>No</td>\n",
              "      <td>No</td>\n",
              "      <td>66</td>\n",
              "      <td>Yes</td>\n",
              "      <td>No</td>\n",
              "      <td>Fiber optic</td>\n",
              "      <td>Yes</td>\n",
              "      <td>No</td>\n",
              "      <td>Yes</td>\n",
              "      <td>Yes</td>\n",
              "      <td>Yes</td>\n",
              "      <td>Yes</td>\n",
              "      <td>Two year</td>\n",
              "      <td>Yes</td>\n",
              "      <td>Bank transfer (automatic)</td>\n",
              "      <td>105.65</td>\n",
              "      <td>6844.50</td>\n",
              "      <td>No</td>\n",
              "    </tr>\n",
              "  </tbody>\n",
              "</table>\n",
              "<p>7032 rows × 20 columns</p>\n",
              "</div>"
            ],
            "text/plain": [
              "      gender  SeniorCitizen Partner Dependents  tenure PhoneService  \\\n",
              "0     Female              0     Yes         No       1           No   \n",
              "1       Male              0      No         No      34          Yes   \n",
              "2       Male              0      No         No       2          Yes   \n",
              "3       Male              0      No         No      45           No   \n",
              "4     Female              0      No         No       2          Yes   \n",
              "...      ...            ...     ...        ...     ...          ...   \n",
              "7038    Male              0     Yes        Yes      24          Yes   \n",
              "7039  Female              0     Yes        Yes      72          Yes   \n",
              "7040  Female              0     Yes        Yes      11           No   \n",
              "7041    Male              1     Yes         No       4          Yes   \n",
              "7042    Male              0      No         No      66          Yes   \n",
              "\n",
              "         MultipleLines InternetService OnlineSecurity OnlineBackup  \\\n",
              "0     No phone service             DSL             No          Yes   \n",
              "1                   No             DSL            Yes           No   \n",
              "2                   No             DSL            Yes          Yes   \n",
              "3     No phone service             DSL            Yes           No   \n",
              "4                   No     Fiber optic             No           No   \n",
              "...                ...             ...            ...          ...   \n",
              "7038               Yes             DSL            Yes           No   \n",
              "7039               Yes     Fiber optic             No          Yes   \n",
              "7040  No phone service             DSL            Yes           No   \n",
              "7041               Yes     Fiber optic             No           No   \n",
              "7042                No     Fiber optic            Yes           No   \n",
              "\n",
              "     DeviceProtection TechSupport StreamingTV StreamingMovies        Contract  \\\n",
              "0                  No          No          No              No  Month-to-month   \n",
              "1                 Yes          No          No              No        One year   \n",
              "2                  No          No          No              No  Month-to-month   \n",
              "3                 Yes         Yes          No              No        One year   \n",
              "4                  No          No          No              No  Month-to-month   \n",
              "...               ...         ...         ...             ...             ...   \n",
              "7038              Yes         Yes         Yes             Yes        One year   \n",
              "7039              Yes          No         Yes             Yes        One year   \n",
              "7040               No          No          No              No  Month-to-month   \n",
              "7041               No          No          No              No  Month-to-month   \n",
              "7042              Yes         Yes         Yes             Yes        Two year   \n",
              "\n",
              "     PaperlessBilling              PaymentMethod  MonthlyCharges  \\\n",
              "0                 Yes           Electronic check           29.85   \n",
              "1                  No               Mailed check           56.95   \n",
              "2                 Yes               Mailed check           53.85   \n",
              "3                  No  Bank transfer (automatic)           42.30   \n",
              "4                 Yes           Electronic check           70.70   \n",
              "...               ...                        ...             ...   \n",
              "7038              Yes               Mailed check           84.80   \n",
              "7039              Yes    Credit card (automatic)          103.20   \n",
              "7040              Yes           Electronic check           29.60   \n",
              "7041              Yes               Mailed check           74.40   \n",
              "7042              Yes  Bank transfer (automatic)          105.65   \n",
              "\n",
              "      TotalCharges Churn  \n",
              "0            29.85    No  \n",
              "1          1889.50    No  \n",
              "2           108.15   Yes  \n",
              "3          1840.75    No  \n",
              "4           151.65   Yes  \n",
              "...            ...   ...  \n",
              "7038       1990.50    No  \n",
              "7039       7362.90    No  \n",
              "7040        346.45    No  \n",
              "7041        306.60   Yes  \n",
              "7042       6844.50    No  \n",
              "\n",
              "[7032 rows x 20 columns]"
            ]
          },
          "execution_count": 13,
          "metadata": {},
          "output_type": "execute_result"
        }
      ],
      "source": [
        "df.fillna(df[\"TotalCharges\"].mean())"
      ]
    },
    {
      "cell_type": "code",
      "execution_count": null,
      "id": "066c1907",
      "metadata": {
        "id": "066c1907",
        "outputId": "d9d09a52-3306-44c1-83a5-4f32dc5b432a"
      },
      "outputs": [
        {
          "data": {
            "text/plain": [
              "gender              0\n",
              "SeniorCitizen       0\n",
              "Partner             0\n",
              "Dependents          0\n",
              "tenure              0\n",
              "PhoneService        0\n",
              "MultipleLines       0\n",
              "InternetService     0\n",
              "OnlineSecurity      0\n",
              "OnlineBackup        0\n",
              "DeviceProtection    0\n",
              "TechSupport         0\n",
              "StreamingTV         0\n",
              "StreamingMovies     0\n",
              "Contract            0\n",
              "PaperlessBilling    0\n",
              "PaymentMethod       0\n",
              "MonthlyCharges      0\n",
              "TotalCharges        0\n",
              "Churn               0\n",
              "dtype: int64"
            ]
          },
          "execution_count": 14,
          "metadata": {},
          "output_type": "execute_result"
        }
      ],
      "source": [
        "df.isnull().sum()"
      ]
    },
    {
      "cell_type": "code",
      "execution_count": null,
      "id": "8137ad44",
      "metadata": {
        "id": "8137ad44",
        "outputId": "014d345f-cc5f-49cf-bc8c-7dc9afa9dc06"
      },
      "outputs": [
        {
          "data": {
            "text/html": [
              "<div>\n",
              "<style scoped>\n",
              "    .dataframe tbody tr th:only-of-type {\n",
              "        vertical-align: middle;\n",
              "    }\n",
              "\n",
              "    .dataframe tbody tr th {\n",
              "        vertical-align: top;\n",
              "    }\n",
              "\n",
              "    .dataframe thead th {\n",
              "        text-align: right;\n",
              "    }\n",
              "</style>\n",
              "<table border=\"1\" class=\"dataframe\">\n",
              "  <thead>\n",
              "    <tr style=\"text-align: right;\">\n",
              "      <th></th>\n",
              "      <th>gender</th>\n",
              "      <th>SeniorCitizen</th>\n",
              "      <th>Partner</th>\n",
              "      <th>Dependents</th>\n",
              "      <th>tenure</th>\n",
              "      <th>PhoneService</th>\n",
              "      <th>MultipleLines</th>\n",
              "      <th>InternetService</th>\n",
              "      <th>OnlineSecurity</th>\n",
              "      <th>OnlineBackup</th>\n",
              "      <th>DeviceProtection</th>\n",
              "      <th>TechSupport</th>\n",
              "      <th>StreamingTV</th>\n",
              "      <th>StreamingMovies</th>\n",
              "      <th>Contract</th>\n",
              "      <th>PaperlessBilling</th>\n",
              "      <th>PaymentMethod</th>\n",
              "      <th>MonthlyCharges</th>\n",
              "      <th>TotalCharges</th>\n",
              "      <th>Churn</th>\n",
              "    </tr>\n",
              "  </thead>\n",
              "  <tbody>\n",
              "    <tr>\n",
              "      <th>0</th>\n",
              "      <td>Female</td>\n",
              "      <td>No</td>\n",
              "      <td>Yes</td>\n",
              "      <td>No</td>\n",
              "      <td>1</td>\n",
              "      <td>No</td>\n",
              "      <td>No phone service</td>\n",
              "      <td>DSL</td>\n",
              "      <td>No</td>\n",
              "      <td>Yes</td>\n",
              "      <td>No</td>\n",
              "      <td>No</td>\n",
              "      <td>No</td>\n",
              "      <td>No</td>\n",
              "      <td>Month-to-month</td>\n",
              "      <td>Yes</td>\n",
              "      <td>Electronic check</td>\n",
              "      <td>29.85</td>\n",
              "      <td>29.85</td>\n",
              "      <td>No</td>\n",
              "    </tr>\n",
              "    <tr>\n",
              "      <th>1</th>\n",
              "      <td>Male</td>\n",
              "      <td>No</td>\n",
              "      <td>No</td>\n",
              "      <td>No</td>\n",
              "      <td>34</td>\n",
              "      <td>Yes</td>\n",
              "      <td>No</td>\n",
              "      <td>DSL</td>\n",
              "      <td>Yes</td>\n",
              "      <td>No</td>\n",
              "      <td>Yes</td>\n",
              "      <td>No</td>\n",
              "      <td>No</td>\n",
              "      <td>No</td>\n",
              "      <td>One year</td>\n",
              "      <td>No</td>\n",
              "      <td>Mailed check</td>\n",
              "      <td>56.95</td>\n",
              "      <td>1889.50</td>\n",
              "      <td>No</td>\n",
              "    </tr>\n",
              "    <tr>\n",
              "      <th>2</th>\n",
              "      <td>Male</td>\n",
              "      <td>No</td>\n",
              "      <td>No</td>\n",
              "      <td>No</td>\n",
              "      <td>2</td>\n",
              "      <td>Yes</td>\n",
              "      <td>No</td>\n",
              "      <td>DSL</td>\n",
              "      <td>Yes</td>\n",
              "      <td>Yes</td>\n",
              "      <td>No</td>\n",
              "      <td>No</td>\n",
              "      <td>No</td>\n",
              "      <td>No</td>\n",
              "      <td>Month-to-month</td>\n",
              "      <td>Yes</td>\n",
              "      <td>Mailed check</td>\n",
              "      <td>53.85</td>\n",
              "      <td>108.15</td>\n",
              "      <td>Yes</td>\n",
              "    </tr>\n",
              "    <tr>\n",
              "      <th>3</th>\n",
              "      <td>Male</td>\n",
              "      <td>No</td>\n",
              "      <td>No</td>\n",
              "      <td>No</td>\n",
              "      <td>45</td>\n",
              "      <td>No</td>\n",
              "      <td>No phone service</td>\n",
              "      <td>DSL</td>\n",
              "      <td>Yes</td>\n",
              "      <td>No</td>\n",
              "      <td>Yes</td>\n",
              "      <td>Yes</td>\n",
              "      <td>No</td>\n",
              "      <td>No</td>\n",
              "      <td>One year</td>\n",
              "      <td>No</td>\n",
              "      <td>Bank transfer (automatic)</td>\n",
              "      <td>42.30</td>\n",
              "      <td>1840.75</td>\n",
              "      <td>No</td>\n",
              "    </tr>\n",
              "    <tr>\n",
              "      <th>4</th>\n",
              "      <td>Female</td>\n",
              "      <td>No</td>\n",
              "      <td>No</td>\n",
              "      <td>No</td>\n",
              "      <td>2</td>\n",
              "      <td>Yes</td>\n",
              "      <td>No</td>\n",
              "      <td>Fiber optic</td>\n",
              "      <td>No</td>\n",
              "      <td>No</td>\n",
              "      <td>No</td>\n",
              "      <td>No</td>\n",
              "      <td>No</td>\n",
              "      <td>No</td>\n",
              "      <td>Month-to-month</td>\n",
              "      <td>Yes</td>\n",
              "      <td>Electronic check</td>\n",
              "      <td>70.70</td>\n",
              "      <td>151.65</td>\n",
              "      <td>Yes</td>\n",
              "    </tr>\n",
              "  </tbody>\n",
              "</table>\n",
              "</div>"
            ],
            "text/plain": [
              "   gender SeniorCitizen Partner Dependents  tenure PhoneService  \\\n",
              "0  Female            No     Yes         No       1           No   \n",
              "1    Male            No      No         No      34          Yes   \n",
              "2    Male            No      No         No       2          Yes   \n",
              "3    Male            No      No         No      45           No   \n",
              "4  Female            No      No         No       2          Yes   \n",
              "\n",
              "      MultipleLines InternetService OnlineSecurity OnlineBackup  \\\n",
              "0  No phone service             DSL             No          Yes   \n",
              "1                No             DSL            Yes           No   \n",
              "2                No             DSL            Yes          Yes   \n",
              "3  No phone service             DSL            Yes           No   \n",
              "4                No     Fiber optic             No           No   \n",
              "\n",
              "  DeviceProtection TechSupport StreamingTV StreamingMovies        Contract  \\\n",
              "0               No          No          No              No  Month-to-month   \n",
              "1              Yes          No          No              No        One year   \n",
              "2               No          No          No              No  Month-to-month   \n",
              "3              Yes         Yes          No              No        One year   \n",
              "4               No          No          No              No  Month-to-month   \n",
              "\n",
              "  PaperlessBilling              PaymentMethod  MonthlyCharges  TotalCharges  \\\n",
              "0              Yes           Electronic check           29.85         29.85   \n",
              "1               No               Mailed check           56.95       1889.50   \n",
              "2              Yes               Mailed check           53.85        108.15   \n",
              "3               No  Bank transfer (automatic)           42.30       1840.75   \n",
              "4              Yes           Electronic check           70.70        151.65   \n",
              "\n",
              "  Churn  \n",
              "0    No  \n",
              "1    No  \n",
              "2   Yes  \n",
              "3    No  \n",
              "4   Yes  "
            ]
          },
          "execution_count": 15,
          "metadata": {},
          "output_type": "execute_result"
        }
      ],
      "source": [
        "df[\"SeniorCitizen\"]= df[\"SeniorCitizen\"].map({0: \"No\", 1: \"Yes\"})\n",
        "df.head()"
      ]
    },
    {
      "cell_type": "code",
      "execution_count": null,
      "id": "ced19df4",
      "metadata": {
        "id": "ced19df4",
        "outputId": "0f5b102b-86dd-4ede-8049-cb0a78800d9f"
      },
      "outputs": [
        {
          "data": {
            "text/plain": [
              "count            7032\n",
              "unique              3\n",
              "top       Fiber optic\n",
              "freq             3096\n",
              "Name: InternetService, dtype: object"
            ]
          },
          "execution_count": 16,
          "metadata": {},
          "output_type": "execute_result"
        }
      ],
      "source": [
        "df[\"InternetService\"].describe(include=['object', 'bool'])"
      ]
    },
    {
      "cell_type": "code",
      "execution_count": null,
      "id": "93fafba9",
      "metadata": {
        "id": "93fafba9",
        "outputId": "fe24b750-4e26-4cdd-d232-2b642b77e253"
      },
      "outputs": [
        {
          "data": {
            "text/html": [
              "<div>\n",
              "<style scoped>\n",
              "    .dataframe tbody tr th:only-of-type {\n",
              "        vertical-align: middle;\n",
              "    }\n",
              "\n",
              "    .dataframe tbody tr th {\n",
              "        vertical-align: top;\n",
              "    }\n",
              "\n",
              "    .dataframe thead th {\n",
              "        text-align: right;\n",
              "    }\n",
              "</style>\n",
              "<table border=\"1\" class=\"dataframe\">\n",
              "  <thead>\n",
              "    <tr style=\"text-align: right;\">\n",
              "      <th></th>\n",
              "      <th>tenure</th>\n",
              "      <th>MonthlyCharges</th>\n",
              "      <th>TotalCharges</th>\n",
              "    </tr>\n",
              "  </thead>\n",
              "  <tbody>\n",
              "    <tr>\n",
              "      <th>count</th>\n",
              "      <td>7032.000000</td>\n",
              "      <td>7032.000000</td>\n",
              "      <td>7032.000000</td>\n",
              "    </tr>\n",
              "    <tr>\n",
              "      <th>mean</th>\n",
              "      <td>32.421786</td>\n",
              "      <td>64.798208</td>\n",
              "      <td>2283.300441</td>\n",
              "    </tr>\n",
              "    <tr>\n",
              "      <th>std</th>\n",
              "      <td>24.545260</td>\n",
              "      <td>30.085974</td>\n",
              "      <td>2266.771362</td>\n",
              "    </tr>\n",
              "    <tr>\n",
              "      <th>min</th>\n",
              "      <td>1.000000</td>\n",
              "      <td>18.250000</td>\n",
              "      <td>18.800000</td>\n",
              "    </tr>\n",
              "    <tr>\n",
              "      <th>25%</th>\n",
              "      <td>9.000000</td>\n",
              "      <td>35.587500</td>\n",
              "      <td>401.450000</td>\n",
              "    </tr>\n",
              "    <tr>\n",
              "      <th>50%</th>\n",
              "      <td>29.000000</td>\n",
              "      <td>70.350000</td>\n",
              "      <td>1397.475000</td>\n",
              "    </tr>\n",
              "    <tr>\n",
              "      <th>75%</th>\n",
              "      <td>55.000000</td>\n",
              "      <td>89.862500</td>\n",
              "      <td>3794.737500</td>\n",
              "    </tr>\n",
              "    <tr>\n",
              "      <th>max</th>\n",
              "      <td>72.000000</td>\n",
              "      <td>118.750000</td>\n",
              "      <td>8684.800000</td>\n",
              "    </tr>\n",
              "  </tbody>\n",
              "</table>\n",
              "</div>"
            ],
            "text/plain": [
              "            tenure  MonthlyCharges  TotalCharges\n",
              "count  7032.000000     7032.000000   7032.000000\n",
              "mean     32.421786       64.798208   2283.300441\n",
              "std      24.545260       30.085974   2266.771362\n",
              "min       1.000000       18.250000     18.800000\n",
              "25%       9.000000       35.587500    401.450000\n",
              "50%      29.000000       70.350000   1397.475000\n",
              "75%      55.000000       89.862500   3794.737500\n",
              "max      72.000000      118.750000   8684.800000"
            ]
          },
          "execution_count": 17,
          "metadata": {},
          "output_type": "execute_result"
        }
      ],
      "source": [
        "numerical_cols = ['tenure', 'MonthlyCharges', 'TotalCharges']\n",
        "df[numerical_cols].describe()"
      ]
    },
    {
      "cell_type": "markdown",
      "id": "69a160d5",
      "metadata": {
        "id": "69a160d5"
      },
      "source": [
        "DATA PREPROCESSING :"
      ]
    },
    {
      "cell_type": "code",
      "execution_count": null,
      "id": "4e1971b0",
      "metadata": {
        "id": "4e1971b0"
      },
      "outputs": [],
      "source": [
        "def object_to_int(dataframe_series):\n",
        "    if dataframe_series.dtype=='object':\n",
        "        dataframe_series = LabelEncoder().fit_transform(dataframe_series)\n",
        "    return dataframe_series"
      ]
    },
    {
      "cell_type": "code",
      "execution_count": null,
      "id": "96628313",
      "metadata": {
        "id": "96628313",
        "outputId": "f41e02a8-01cc-4338-a18e-22a5c06bbc89"
      },
      "outputs": [
        {
          "data": {
            "text/html": [
              "<div>\n",
              "<style scoped>\n",
              "    .dataframe tbody tr th:only-of-type {\n",
              "        vertical-align: middle;\n",
              "    }\n",
              "\n",
              "    .dataframe tbody tr th {\n",
              "        vertical-align: top;\n",
              "    }\n",
              "\n",
              "    .dataframe thead th {\n",
              "        text-align: right;\n",
              "    }\n",
              "</style>\n",
              "<table border=\"1\" class=\"dataframe\">\n",
              "  <thead>\n",
              "    <tr style=\"text-align: right;\">\n",
              "      <th></th>\n",
              "      <th>gender</th>\n",
              "      <th>SeniorCitizen</th>\n",
              "      <th>Partner</th>\n",
              "      <th>Dependents</th>\n",
              "      <th>tenure</th>\n",
              "      <th>PhoneService</th>\n",
              "      <th>MultipleLines</th>\n",
              "      <th>InternetService</th>\n",
              "      <th>OnlineSecurity</th>\n",
              "      <th>OnlineBackup</th>\n",
              "      <th>DeviceProtection</th>\n",
              "      <th>TechSupport</th>\n",
              "      <th>StreamingTV</th>\n",
              "      <th>StreamingMovies</th>\n",
              "      <th>Contract</th>\n",
              "      <th>PaperlessBilling</th>\n",
              "      <th>PaymentMethod</th>\n",
              "      <th>MonthlyCharges</th>\n",
              "      <th>TotalCharges</th>\n",
              "      <th>Churn</th>\n",
              "    </tr>\n",
              "  </thead>\n",
              "  <tbody>\n",
              "    <tr>\n",
              "      <th>0</th>\n",
              "      <td>0</td>\n",
              "      <td>0</td>\n",
              "      <td>1</td>\n",
              "      <td>0</td>\n",
              "      <td>1</td>\n",
              "      <td>0</td>\n",
              "      <td>1</td>\n",
              "      <td>0</td>\n",
              "      <td>0</td>\n",
              "      <td>2</td>\n",
              "      <td>0</td>\n",
              "      <td>0</td>\n",
              "      <td>0</td>\n",
              "      <td>0</td>\n",
              "      <td>0</td>\n",
              "      <td>1</td>\n",
              "      <td>2</td>\n",
              "      <td>29.85</td>\n",
              "      <td>29.85</td>\n",
              "      <td>0</td>\n",
              "    </tr>\n",
              "    <tr>\n",
              "      <th>1</th>\n",
              "      <td>1</td>\n",
              "      <td>0</td>\n",
              "      <td>0</td>\n",
              "      <td>0</td>\n",
              "      <td>34</td>\n",
              "      <td>1</td>\n",
              "      <td>0</td>\n",
              "      <td>0</td>\n",
              "      <td>2</td>\n",
              "      <td>0</td>\n",
              "      <td>2</td>\n",
              "      <td>0</td>\n",
              "      <td>0</td>\n",
              "      <td>0</td>\n",
              "      <td>1</td>\n",
              "      <td>0</td>\n",
              "      <td>3</td>\n",
              "      <td>56.95</td>\n",
              "      <td>1889.50</td>\n",
              "      <td>0</td>\n",
              "    </tr>\n",
              "    <tr>\n",
              "      <th>2</th>\n",
              "      <td>1</td>\n",
              "      <td>0</td>\n",
              "      <td>0</td>\n",
              "      <td>0</td>\n",
              "      <td>2</td>\n",
              "      <td>1</td>\n",
              "      <td>0</td>\n",
              "      <td>0</td>\n",
              "      <td>2</td>\n",
              "      <td>2</td>\n",
              "      <td>0</td>\n",
              "      <td>0</td>\n",
              "      <td>0</td>\n",
              "      <td>0</td>\n",
              "      <td>0</td>\n",
              "      <td>1</td>\n",
              "      <td>3</td>\n",
              "      <td>53.85</td>\n",
              "      <td>108.15</td>\n",
              "      <td>1</td>\n",
              "    </tr>\n",
              "    <tr>\n",
              "      <th>3</th>\n",
              "      <td>1</td>\n",
              "      <td>0</td>\n",
              "      <td>0</td>\n",
              "      <td>0</td>\n",
              "      <td>45</td>\n",
              "      <td>0</td>\n",
              "      <td>1</td>\n",
              "      <td>0</td>\n",
              "      <td>2</td>\n",
              "      <td>0</td>\n",
              "      <td>2</td>\n",
              "      <td>2</td>\n",
              "      <td>0</td>\n",
              "      <td>0</td>\n",
              "      <td>1</td>\n",
              "      <td>0</td>\n",
              "      <td>0</td>\n",
              "      <td>42.30</td>\n",
              "      <td>1840.75</td>\n",
              "      <td>0</td>\n",
              "    </tr>\n",
              "    <tr>\n",
              "      <th>4</th>\n",
              "      <td>0</td>\n",
              "      <td>0</td>\n",
              "      <td>0</td>\n",
              "      <td>0</td>\n",
              "      <td>2</td>\n",
              "      <td>1</td>\n",
              "      <td>0</td>\n",
              "      <td>1</td>\n",
              "      <td>0</td>\n",
              "      <td>0</td>\n",
              "      <td>0</td>\n",
              "      <td>0</td>\n",
              "      <td>0</td>\n",
              "      <td>0</td>\n",
              "      <td>0</td>\n",
              "      <td>1</td>\n",
              "      <td>2</td>\n",
              "      <td>70.70</td>\n",
              "      <td>151.65</td>\n",
              "      <td>1</td>\n",
              "    </tr>\n",
              "  </tbody>\n",
              "</table>\n",
              "</div>"
            ],
            "text/plain": [
              "   gender  SeniorCitizen  Partner  Dependents  tenure  PhoneService  \\\n",
              "0       0              0        1           0       1             0   \n",
              "1       1              0        0           0      34             1   \n",
              "2       1              0        0           0       2             1   \n",
              "3       1              0        0           0      45             0   \n",
              "4       0              0        0           0       2             1   \n",
              "\n",
              "   MultipleLines  InternetService  OnlineSecurity  OnlineBackup  \\\n",
              "0              1                0               0             2   \n",
              "1              0                0               2             0   \n",
              "2              0                0               2             2   \n",
              "3              1                0               2             0   \n",
              "4              0                1               0             0   \n",
              "\n",
              "   DeviceProtection  TechSupport  StreamingTV  StreamingMovies  Contract  \\\n",
              "0                 0            0            0                0         0   \n",
              "1                 2            0            0                0         1   \n",
              "2                 0            0            0                0         0   \n",
              "3                 2            2            0                0         1   \n",
              "4                 0            0            0                0         0   \n",
              "\n",
              "   PaperlessBilling  PaymentMethod  MonthlyCharges  TotalCharges  Churn  \n",
              "0                 1              2           29.85         29.85      0  \n",
              "1                 0              3           56.95       1889.50      0  \n",
              "2                 1              3           53.85        108.15      1  \n",
              "3                 0              0           42.30       1840.75      0  \n",
              "4                 1              2           70.70        151.65      1  "
            ]
          },
          "execution_count": 19,
          "metadata": {},
          "output_type": "execute_result"
        }
      ],
      "source": [
        "df = df.apply(lambda x: object_to_int(x))\n",
        "df.head()"
      ]
    },
    {
      "cell_type": "code",
      "execution_count": null,
      "id": "8892ca9c",
      "metadata": {
        "id": "8892ca9c",
        "outputId": "e6f5390e-ed79-4d1f-dc6b-c9d9624331b2"
      },
      "outputs": [
        {
          "data": {
            "text/plain": [
              "Churn               1.000000\n",
              "MonthlyCharges      0.192858\n",
              "PaperlessBilling    0.191454\n",
              "SeniorCitizen       0.150541\n",
              "PaymentMethod       0.107852\n",
              "MultipleLines       0.038043\n",
              "PhoneService        0.011691\n",
              "gender             -0.008545\n",
              "StreamingTV        -0.036303\n",
              "StreamingMovies    -0.038802\n",
              "InternetService    -0.047097\n",
              "Partner            -0.149982\n",
              "Dependents         -0.163128\n",
              "DeviceProtection   -0.177883\n",
              "OnlineBackup       -0.195290\n",
              "TotalCharges       -0.199484\n",
              "TechSupport        -0.282232\n",
              "OnlineSecurity     -0.289050\n",
              "tenure             -0.354049\n",
              "Contract           -0.396150\n",
              "Name: Churn, dtype: float64"
            ]
          },
          "execution_count": 20,
          "metadata": {},
          "output_type": "execute_result"
        },
        {
          "data": {
            "text/plain": [
              "<Figure size 1400x700 with 0 Axes>"
            ]
          },
          "metadata": {},
          "output_type": "display_data"
        }
      ],
      "source": [
        "plt.figure(figsize=(14,7))\n",
        "df.corr()['Churn'].sort_values(ascending = False)"
      ]
    },
    {
      "cell_type": "code",
      "execution_count": null,
      "id": "3a73be9d",
      "metadata": {
        "id": "3a73be9d"
      },
      "outputs": [],
      "source": [
        "X = df.drop(columns = ['Churn'])\n",
        "y = df['Churn'].values"
      ]
    },
    {
      "cell_type": "code",
      "execution_count": null,
      "id": "ad91078f",
      "metadata": {
        "id": "ad91078f"
      },
      "outputs": [],
      "source": [
        "X_train, X_test, y_train, y_test = train_test_split(X,y,test_size = 0.30, random_state = 40, stratify=y)"
      ]
    },
    {
      "cell_type": "code",
      "execution_count": null,
      "id": "8598379a",
      "metadata": {
        "id": "8598379a"
      },
      "outputs": [],
      "source": [
        "import seaborn as sns\n",
        "def distplot(feature, frame, color='r'):\n",
        "    plt.figure(figsize=(8,3))\n",
        "    plt.title(\"Distribution for {}\".format(feature))\n",
        "    ax = sns.distplot(frame[feature], color= color)"
      ]
    },
    {
      "cell_type": "code",
      "execution_count": null,
      "id": "948f8665",
      "metadata": {
        "id": "948f8665",
        "outputId": "90ee9c7d-00cc-4389-fdae-225a0d5b61c6"
      },
      "outputs": [
        {
          "name": "stderr",
          "output_type": "stream",
          "text": [
            "C:\\Users\\91620\\anaconda3\\lib\\site-packages\\seaborn\\distributions.py:2619: FutureWarning: `distplot` is a deprecated function and will be removed in a future version. Please adapt your code to use either `displot` (a figure-level function with similar flexibility) or `histplot` (an axes-level function for histograms).\n",
            "  warnings.warn(msg, FutureWarning)\n",
            "C:\\Users\\91620\\anaconda3\\lib\\site-packages\\seaborn\\distributions.py:2619: FutureWarning: `distplot` is a deprecated function and will be removed in a future version. Please adapt your code to use either `displot` (a figure-level function with similar flexibility) or `histplot` (an axes-level function for histograms).\n",
            "  warnings.warn(msg, FutureWarning)\n",
            "C:\\Users\\91620\\anaconda3\\lib\\site-packages\\seaborn\\distributions.py:2619: FutureWarning: `distplot` is a deprecated function and will be removed in a future version. Please adapt your code to use either `displot` (a figure-level function with similar flexibility) or `histplot` (an axes-level function for histograms).\n",
            "  warnings.warn(msg, FutureWarning)\n"
          ]
        },
        {
          "data": {
            "image/png": "[encoded data removed]",
            "text/plain": [
              "<Figure size 800x300 with 1 Axes>"
            ]
          },
          "metadata": {},
          "output_type": "display_data"
        },
        {
          "data": {
            "image/png": "[encoded data removed]",
            "text/plain": [
              "<Figure size 800x300 with 1 Axes>"
            ]
          },
          "metadata": {},
          "output_type": "display_data"
        },
        {
          "data": {
            "image/png": "[encoded data removed]",
            "text/plain": [
              "<Figure size 800x300 with 1 Axes>"
            ]
          },
          "metadata": {},
          "output_type": "display_data"
        }
      ],
      "source": [
        "num_cols = [\"tenure\", 'MonthlyCharges', 'TotalCharges']\n",
        "for feat in num_cols: distplot(feat, df)"
      ]
    },
    {
      "cell_type": "markdown",
      "id": "fb3d6228",
      "metadata": {
        "id": "fb3d6228"
      },
      "source": [
        "Standardizing numeric attributes:"
      ]
    },
    {
      "cell_type": "code",
      "execution_count": null,
      "id": "d0ae080c",
      "metadata": {
        "id": "d0ae080c",
        "outputId": "a135b1b6-d55b-4c50-d124-a39cd600ef97"
      },
      "outputs": [
        {
          "name": "stderr",
          "output_type": "stream",
          "text": [
            "C:\\Users\\91620\\anaconda3\\lib\\site-packages\\seaborn\\distributions.py:2619: FutureWarning: `distplot` is a deprecated function and will be removed in a future version. Please adapt your code to use either `displot` (a figure-level function with similar flexibility) or `histplot` (an axes-level function for histograms).\n",
            "  warnings.warn(msg, FutureWarning)\n",
            "C:\\Users\\91620\\anaconda3\\lib\\site-packages\\seaborn\\distributions.py:2619: FutureWarning: `distplot` is a deprecated function and will be removed in a future version. Please adapt your code to use either `displot` (a figure-level function with similar flexibility) or `histplot` (an axes-level function for histograms).\n",
            "  warnings.warn(msg, FutureWarning)\n",
            "C:\\Users\\91620\\anaconda3\\lib\\site-packages\\seaborn\\distributions.py:2619: FutureWarning: `distplot` is a deprecated function and will be removed in a future version. Please adapt your code to use either `displot` (a figure-level function with similar flexibility) or `histplot` (an axes-level function for histograms).\n",
            "  warnings.warn(msg, FutureWarning)\n"
          ]
        },
        {
          "data": {
            "image/png": "[encoded data removed]",
            "text/plain": [
              "<Figure size 800x300 with 1 Axes>"
            ]
          },
          "metadata": {},
          "output_type": "display_data"
        },
        {
          "data": {
            "image/png": "[encoded data removed]",
            "text/plain": [
              "<Figure size 800x300 with 1 Axes>"
            ]
          },
          "metadata": {},
          "output_type": "display_data"
        },
        {
          "data": {
            "image/png": "[encoded data removed]",
            "text/plain": [
              "<Figure size 800x300 with 1 Axes>"
            ]
          },
          "metadata": {},
          "output_type": "display_data"
        }
      ],
      "source": [
        "df_std = pd.DataFrame(StandardScaler().fit_transform(df[num_cols].astype('float64')),\n",
        "                       columns=num_cols)\n",
        "for feat in numerical_cols: distplot(feat, df_std, color='c')"
      ]
    },
    {
      "cell_type": "code",
      "execution_count": null,
      "id": "23ca16ac",
      "metadata": {
        "id": "23ca16ac"
      },
      "outputs": [],
      "source": [
        "# Divide the columns into 3 categories, one for standardisation, one for label encoding and one for one hot encoding\n",
        "\n",
        "cat_cols_ohe =['PaymentMethod', 'Contract', 'InternetService'] # those that need one-hot encoding\n",
        "cat_cols_le = list(set(X_train.columns)- set(num_cols) - set(cat_cols_ohe)) #those that need label encoding"
      ]
    },
    {
      "cell_type": "code",
      "execution_count": null,
      "id": "a2263d9a",
      "metadata": {
        "id": "a2263d9a"
      },
      "outputs": [],
      "source": [
        "scaler= StandardScaler()\n",
        "\n",
        "X_train[num_cols] = scaler.fit_transform(X_train[num_cols])\n",
        "X_test[num_cols] = scaler.transform(X_test[num_cols])"
      ]
    },
    {
      "cell_type": "markdown",
      "id": "67b14678",
      "metadata": {
        "id": "67b14678"
      },
      "source": [
        "Decision Tree Classifier:"
      ]
    },
    {
      "cell_type": "code",
      "execution_count": null,
      "id": "f56dbf1e",
      "metadata": {
        "id": "f56dbf1e",
        "outputId": "b13e4293-72d2-4bde-ef10-d01061aed80f"
      },
      "outputs": [
        {
          "name": "stdout",
          "output_type": "stream",
          "text": [
            "Decision Tree accuracy is : 0.7341232227488151\n"
          ]
        }
      ],
      "source": [
        "dt_model = DecisionTreeClassifier(random_state=42)\n",
        "dt_model.fit(X_train,y_train)\n",
        "predictdt_y = dt_model.predict(X_test)\n",
        "accuracy_dt = dt_model.score(X_test,y_test)\n",
        "print(\"Decision Tree accuracy is :\",accuracy_dt)"
      ]
    },
    {
      "cell_type": "markdown",
      "id": "9ba5a166",
      "metadata": {
        "id": "9ba5a166"
      },
      "source": [
        "Decision tree gives very low score."
      ]
    },
    {
      "cell_type": "code",
      "execution_count": null,
      "id": "bf7fc48c",
      "metadata": {
        "id": "bf7fc48c",
        "outputId": "1da8b05a-dd6a-444b-b514-69ad4e56a5c5"
      },
      "outputs": [
        {
          "name": "stdout",
          "output_type": "stream",
          "text": [
            "              precision    recall  f1-score   support\n",
            "\n",
            "           0       0.82      0.81      0.82      1549\n",
            "           1       0.50      0.52      0.51       561\n",
            "\n",
            "    accuracy                           0.73      2110\n",
            "   macro avg       0.66      0.67      0.66      2110\n",
            "weighted avg       0.74      0.73      0.74      2110\n",
            "\n"
          ]
        }
      ],
      "source": [
        "print(classification_report(y_test, predictdt_y))"
      ]
    },
    {
      "cell_type": "markdown",
      "id": "22c05bc9",
      "metadata": {
        "id": "22c05bc9"
      },
      "source": [
        "Logistic Regression:"
      ]
    },
    {
      "cell_type": "code",
      "execution_count": null,
      "id": "e356da63",
      "metadata": {
        "id": "e356da63",
        "outputId": "c75adda6-fc0e-42a0-8b15-c5d48fa1e90c"
      },
      "outputs": [
        {
          "name": "stdout",
          "output_type": "stream",
          "text": [
            "Logistic Regression accuracy is : 0.8090047393364929\n"
          ]
        }
      ],
      "source": [
        "lr_model = LogisticRegression(random_state=42)\n",
        "lr_model.fit(X_train,y_train)\n",
        "\n",
        "accuracy_lr = lr_model.score(X_test,y_test)\n",
        "print(\"Logistic Regression accuracy is :\",accuracy_lr)"
      ]
    },
    {
      "cell_type": "code",
      "execution_count": null,
      "id": "a2e796d4",
      "metadata": {
        "scrolled": true,
        "id": "a2e796d4",
        "outputId": "be8b6bee-2238-4c35-8292-5641f3fb7829"
      },
      "outputs": [
        {
          "name": "stdout",
          "output_type": "stream",
          "text": [
            "              precision    recall  f1-score   support\n",
            "\n",
            "           0       0.86      0.89      0.87      1549\n",
            "           1       0.66      0.58      0.62       561\n",
            "\n",
            "    accuracy                           0.81      2110\n",
            "   macro avg       0.76      0.74      0.75      2110\n",
            "weighted avg       0.80      0.81      0.81      2110\n",
            "\n"
          ]
        }
      ],
      "source": [
        "lr_pred= lr_model.predict(X_test)\n",
        "report = classification_report(y_test,lr_pred)\n",
        "print(report)"
      ]
    },
    {
      "cell_type": "markdown",
      "id": "9c59e4a6",
      "metadata": {
        "id": "9c59e4a6"
      },
      "source": [
        "Now we would be applying the Logit Leaf Model :"
      ]
    },
    {
      "cell_type": "code",
      "execution_count": null,
      "id": "e1a21913",
      "metadata": {
        "id": "e1a21913"
      },
      "outputs": [],
      "source": [
        "# Build a decision tree with let's say 4 layers\n",
        "tree = DecisionTreeClassifier(max_depth=4, random_state=42)\n",
        "tree.fit(X_train, y_train)\n",
        "\n",
        "# Find the leaf nodes for each sample\n",
        "leaf_indices = tree.apply(X_train)"
      ]
    },
    {
      "cell_type": "code",
      "execution_count": null,
      "id": "ef2c4950",
      "metadata": {
        "id": "ef2c4950"
      },
      "outputs": [],
      "source": [
        "import sys\n",
        "np.set_printoptions(threshold=sys.maxsize)"
      ]
    },
    {
      "cell_type": "code",
      "execution_count": null,
      "id": "68edec4f",
      "metadata": {
        "scrolled": true,
        "id": "68edec4f",
        "outputId": "3f0b0480-7288-4985-b313-c91722a477d6"
      },
      "outputs": [
        {
          "name": "stdout",
          "output_type": "stream",
          "text": [
            "[ 4  5  7  8 11 12 14 15 19 20 22 23 26 27 29 30]\n"
          ]
        }
      ],
      "source": [
        "print(np.unique(leaf_indices))"
      ]
    },
    {
      "cell_type": "code",
      "execution_count": null,
      "id": "d7cd00c3",
      "metadata": {
        "id": "d7cd00c3",
        "outputId": "3e099477-d4ae-489b-ed48-ee042abd1a57"
      },
      "outputs": [
        {
          "name": "stdout",
          "output_type": "stream",
          "text": [
            "[0.6228070175438597, 0.7349624060150376, 0.8091603053435115, 0.6086330935251798, 0.6744186046511628, 0.8161094224924013, 0.8688524590163934, 0.875, 0.964769647696477, 0.912568306010929, 0.8303571428571429, 0.7214285714285714, 0.9923224568138196, 0.9708222811671088, 0.8333333333333334, 0.9433962264150944]\n"
          ]
        }
      ],
      "source": [
        "# Fit a logistic regression model to each leaf node\n",
        "lr_models = []\n",
        "lm = LogisticRegression()\n",
        "for k in np.unique(leaf_indices):\n",
        "    try:\n",
        "        lm.fit(X_train[leaf_indices == k], y_train[leaf_indices == k])\n",
        "        lr_models.append((lm.score(X_train[leaf_indices == k], y_train[leaf_indices == k])))\n",
        "    except ValueError:\n",
        "        pass\n",
        "print(lr_models)"
      ]
    },
    {
      "cell_type": "code",
      "execution_count": null,
      "id": "ded7c354",
      "metadata": {
        "id": "ded7c354",
        "outputId": "3be57cad-1920-44eb-9a80-5b620bfc9e6a"
      },
      "outputs": [
        {
          "name": "stdout",
          "output_type": "stream",
          "text": [
            "0.8236838296443765\n"
          ]
        }
      ],
      "source": [
        "print(np.mean(lr_models))"
      ]
    },
    {
      "cell_type": "markdown",
      "id": "09a9c3e8",
      "metadata": {
        "id": "09a9c3e8"
      },
      "source": [
        "Now we would be testing out model on the test dataset:"
      ]
    },
    {
      "cell_type": "code",
      "execution_count": null,
      "id": "4fdd5558",
      "metadata": {
        "id": "4fdd5558"
      },
      "outputs": [],
      "source": [
        "y_generated_test=tree.predict(X_test)"
      ]
    },
    {
      "cell_type": "code",
      "execution_count": null,
      "id": "4123f721",
      "metadata": {
        "id": "4123f721"
      },
      "outputs": [],
      "source": [
        "leaf_indices_test = tree.apply(X_test)"
      ]
    },
    {
      "cell_type": "code",
      "execution_count": null,
      "id": "9323242a",
      "metadata": {
        "id": "9323242a",
        "outputId": "921f2065-6e91-4647-826c-2ea09098ed14"
      },
      "outputs": [
        {
          "name": "stdout",
          "output_type": "stream",
          "text": [
            "[0.6428571428571429, 0.7662337662337663, 0.7676767676767676, 0.6455696202531646, 0.78125, 0.7754237288135594, 0.8421052631578947, 1.0, 0.9666666666666667, 0.9615384615384616, 0.9032258064516129, 0.8064516129032258, 0.9914893617021276, 0.8818181818181818]\n"
          ]
        }
      ],
      "source": [
        "pred=[]\n",
        "for k in np.unique(leaf_indices_test):\n",
        "    try:\n",
        "        lm.fit(X_test[leaf_indices_test == k], y_test[leaf_indices_test == k])\n",
        "        pred.append((lm.score(X_test[leaf_indices_test == k], y_test[leaf_indices_test == k])))\n",
        "    except ValueError:\n",
        "        pass\n",
        "print(pred)"
      ]
    },
    {
      "cell_type": "code",
      "execution_count": null,
      "id": "139e5f83",
      "metadata": {
        "id": "139e5f83",
        "outputId": "85c2cf62-f166-46ac-e3c1-812f89cef575"
      },
      "outputs": [
        {
          "data": {
            "text/plain": [
              "0.838021884290898"
            ]
          },
          "execution_count": 68,
          "metadata": {},
          "output_type": "execute_result"
        }
      ],
      "source": [
        "np.mean(pred)"
      ]
    },
    {
      "cell_type": "markdown",
      "id": "8ad4731d",
      "metadata": {
        "id": "8ad4731d"
      },
      "source": [
        "Now,we are interested in finding that for what value of decesion tree depth will the model be the best working model."
      ]
    },
    {
      "cell_type": "code",
      "execution_count": null,
      "id": "ef05e9a5",
      "metadata": {
        "scrolled": true,
        "id": "ef05e9a5",
        "outputId": "11304b26-784c-4a93-bce4-2969b8fd60aa"
      },
      "outputs": [
        {
          "name": "stdout",
          "output_type": "stream",
          "text": [
            "[0.6701256144183506, 0.7702702702702703, 0.8764591439688716, 0.971063829787234]\n",
            "[0.683066361556064, 0.6666666666666666, 0.7814485387547649, 0.7821782178217822, 0.947463768115942, 0.7941176470588235, 0.9832962138084632, 0.9314079422382672]\n",
            "[0.6228070175438597, 0.7349624060150376, 0.8091603053435115, 0.6086330935251798, 0.6744186046511628, 0.8161094224924013, 0.8688524590163934, 0.875, 0.964769647696477, 0.912568306010929, 0.8303571428571429, 0.7214285714285714, 0.9923224568138196, 0.9708222811671088, 0.8333333333333334, 0.9433962264150944]\n",
            "[0.6063829787234043, 0.8333333333333334, 0.8674698795180723, 0.674863387978142, 0.8146718146718147, 0.576530612244898, 0.7289719626168224, 0.6190476190476191, 0.746031746031746, 0.8669950738916257, 1.0, 0.8627450980392157, 0.8717948717948718, 0.75, 0.9695290858725761, 0.8333333333333334, 0.9298245614035088, 0.875968992248062, 0.8019323671497585, 1.0, 0.732824427480916, 0.9823008849557522, 0.973404255319149, 0.875, 0.75, 0.9147727272727273]\n",
            "[0.62890625, 0.8076923076923077, 0.7962962962962963, 0.8333333333333334, 0.86875, 1.0, 0.609375, 0.7647058823529411, 0.7142857142857143, 0.8757763975155279, 0.6700507614213198, 0.6138107416879796, 0.8571428571428571, 0.6724137931034483, 0.725, 0.627906976744186, 0.776255707762557, 0.8181818181818182, 0.6666666666666666, 0.8709677419354839, 1.0, 0.9375, 0.9473684210526315, 0.9130434782608695, 0.9245283018867925, 0.9805194805194806, 1.0, 1.0, 0.9795918367346939, 0.863013698630137, 0.9285714285714286, 0.8305084745762712, 0.75, 0.88, 0.7195121951219512, 0.8367346938775511, 0.9866666666666667, 0.9, 0.9781420765027322, 1.0, 0.9349112426035503, 0.7142857142857143]\n",
            "[0.6079295154185022, 0.9655172413793104, 0.9444444444444444, 0.75, 0.75, 0.9444444444444444, 0.8, 0.8409090909090909, 1.0, 0.6842105263157895, 0.6346153846153846, 0.7105263157894737, 0.8145161290322581, 0.6666666666666666, 0.8108108108108109, 0.8, 0.8910256410256411, 0.7019230769230769, 0.6881720430107527, 0.7205882352941176, 0.6099071207430341, 0.9375, 0.9090909090909091, 1.0, 0.7708333333333334, 0.9166666666666666, 0.6428571428571429, 0.6923076923076923, 0.7058823529411765, 0.7435897435897436, 0.8725490196078431, 0.6923076923076923, 0.853448275862069, 0.9818181818181818, 1.0, 0.9629629629629629, 1.0, 0.9285714285714286, 0.8888888888888888, 1.0, 0.9615384615384616, 0.9642857142857143, 0.9857142857142858, 1.0, 0.9893617021276596, 0.9523809523809523, 0.8064516129032258, 0.9767441860465116, 0.9259259259259259, 0.8421052631578947, 0.8448275862068966, 0.6891891891891891, 0.9230769230769231, 1.0, 0.7704918032786885, 0.8095238095238095, 0.7857142857142857, 0.9906103286384976, 0.9166666666666666, 0.8888888888888888, 1.0, 0.9807162534435262, 0.9848484848484849, 0.9029126213592233, 0.8]\n",
            "[0.5945945945945946, 0.9583333333333334, 1.0, 1.0, 0.9375, 1.0, 0.7941176470588235, 1.0, 0.7380952380952381, 0.8888888888888888, 0.7272727272727273, 0.6382978723404256, 0.7027027027027027, 0.7560975609756098, 0.9285714285714286, 0.5789473684210527, 0.8846153846153846, 0.8181818181818182, 1.0, 0.948051948051948, 0.8734177215189873, 0.7037037037037037, 0.7662337662337663, 0.9444444444444444, 0.7066666666666667, 0.7258064516129032, 1.0, 0.8076923076923077, 0.5940959409594095, 1.0, 0.9615384615384616, 0.7142857142857143, 1.0, 0.8108108108108109, 1.0, 0.8, 0.875, 0.65, 0.6875, 0.75, 0.8181818181818182, 0.7391304347826086, 0.8484848484848485, 0.6309523809523809, 0.8712871287128713, 0.8095238095238095, 0.8125, 0.8674698795180723, 0.8571428571428571, 0.9, 1.0, 1.0, 0.9411764705882353, 0.9736842105263158, 1.0, 1.0, 0.9565217391304348, 0.995260663507109, 0.9375, 0.875, 0.8571428571428571, 0.9, 1.0, 1.0, 0.9523809523809523, 0.8333333333333334, 0.9047619047619048, 0.8125, 0.7222222222222222, 0.8157894736842105, 0.8611111111111112, 1.0, 0.9375, 0.7333333333333333, 0.6666666666666666, 1.0, 0.7142857142857143, 0.9534883720930233, 0.9878048780487805, 0.9142857142857143, 0.9545454545454546, 0.9117647058823529, 1.0]\n",
            "[0.5935828877005348, 0.6571428571428571, 0.75, 1.0, 0.76, 0.7560975609756098, 0.92, 0.8, 0.7192982456140351, 0.8888888888888888, 0.875, 0.6666666666666666, 0.8636363636363636, 0.6741573033707865, 0.775, 0.9512195121951219, 0.625, 0.8695652173913043, 0.9310344827586207, 1.0, 0.9, 0.9830508474576272, 0.8333333333333334, 0.8571428571428571, 0.9027777777777778, 0.7142857142857143, 0.7868852459016393, 0.75, 0.75, 0.9285714285714286, 0.6923076923076923, 0.9, 0.7619047619047619, 0.8292682926829268, 0.8421052631578947, 0.9393939393939394, 0.6131687242798354, 0.8928571428571429, 1.0, 1.0, 0.7916666666666666, 1.0, 1.0, 0.6666666666666666, 0.7142857142857143, 0.6923076923076923, 0.6808510638297872, 1.0, 1.0, 0.6875, 0.8571428571428571, 0.875, 0.6282051282051282, 1.0, 0.9080459770114943, 0.7368421052631579, 0.9166666666666666, 0.8773584905660378, 1.0, 1.0, 1.0, 1.0, 0.9, 1.0, 0.8947368421052632, 0.98, 0.9629629629629629, 0.8571428571428571, 0.9411764705882353, 1.0, 1.0, 1.0, 1.0, 0.8333333333333334, 0.851063829787234, 0.875, 1.0, 0.8333333333333334, 0.8235294117647058, 0.7368421052631579, 0.8378378378378378, 0.8461538461538461, 1.0, 0.7692307692307693, 0.875, 0.75, 0.9090909090909091, 0.7894736842105263, 0.8333333333333334, 1.0, 0.9904153354632588, 0.9285714285714286, 1.0, 0.8970588235294118]\n",
            "[0.5808383233532934, 0.85, 0.7619047619047619, 1.0, 0.8421052631578947, 0.7142857142857143, 0.8867924528301887, 0.7857142857142857, 0.7307692307692307, 0.8, 0.6666666666666666, 0.8571428571428571, 0.7272727272727273, 0.8235294117647058, 0.9411764705882353, 1.0, 0.8888888888888888, 0.725, 0.9655172413793104, 0.7450980392156863, 0.8823529411764706, 0.7333333333333333, 0.8888888888888888, 1.0, 0.9629629629629629, 1.0, 1.0, 1.0, 1.0, 0.8823529411764706, 1.0, 0.8837209302325582, 0.75, 0.9523809523809523, 0.775, 0.8333333333333334, 0.9, 1.0, 0.95, 0.7333333333333333, 1.0, 0.8571428571428571, 0.75, 0.8461538461538461, 0.8, 1.0, 0.6069868995633187, 1.0, 0.9333333333333333, 0.8461538461538461, 0.7058823529411765, 0.75, 1.0, 0.75, 0.8333333333333334, 0.7142857142857143, 0.875, 0.6410256410256411, 0.6666666666666666, 0.7333333333333333, 0.8333333333333334, 0.9285714285714286, 1.0, 0.6842105263157895, 0.9166666666666666, 0.9523809523809523, 0.8333333333333334, 0.9166666666666666, 0.7142857142857143, 1.0, 0.8482142857142857, 0.9468085106382979, 1.0, 0.875, 1.0, 0.9411764705882353, 1.0, 0.9411764705882353, 0.8333333333333334, 1.0, 1.0, 0.8333333333333334, 0.8571428571428571, 0.8787878787878788, 0.9333333333333333, 0.9090909090909091, 1.0, 0.8571428571428571, 0.6153846153846154, 0.9166666666666666, 0.9230769230769231, 0.8695652173913043, 1.0, 1.0, 1.0, 0.9411764705882353, 0.8, 0.75, 0.9, 0.8666666666666667, 0.9090909090909091, 1.0, 0.9702970297029703, 1.0, 1.0, 0.8955223880597015]\n",
            "[0.717391304347826, 0.5785123966942148, 0.7777777777777778, 0.7333333333333333, 1.0, 0.8823529411764706, 0.6923076923076923, 0.8888888888888888, 0.85, 1.0, 0.8076923076923077, 0.7692307692307693, 1.0, 0.7333333333333333, 0.8571428571428571, 0.875, 0.75, 0.875, 0.7222222222222222, 0.8461538461538461, 0.9615384615384616, 1.0, 0.8666666666666667, 0.8055555555555556, 0.9375, 0.8, 1.0, 1.0, 1.0, 0.7777777777777778, 0.9130434782608695, 0.95, 0.6428571428571429, 1.0, 0.7631578947368421, 1.0, 1.0, 1.0, 0.7777777777777778, 0.6388888888888888, 1.0, 0.6666666666666666, 0.8695652173913043, 0.9375, 0.8888888888888888, 0.8333333333333334, 1.0, 0.600896860986547, 1.0, 1.0, 0.8571428571428571, 0.8333333333333334, 0.8333333333333334, 0.6666666666666666, 0.6666666666666666, 0.6666666666666666, 0.6666666666666666, 0.64, 0.7857142857142857, 0.8333333333333334, 1.0, 0.8333333333333334, 0.8888888888888888, 0.7014925373134329, 0.875, 0.9090909090909091, 0.9285714285714286, 0.7777777777777778, 0.6666666666666666, 0.9705882352941176, 0.8263157894736842, 0.8636363636363636, 0.9722222222222222, 1.0, 0.8571428571428571, 1.0, 1.0, 0.8333333333333334, 1.0, 0.9032258064516129, 1.0, 0.9, 1.0, 0.9230769230769231, 0.9090909090909091, 0.8461538461538461, 0.875, 0.8333333333333334, 1.0, 1.0, 0.8, 0.9, 1.0, 0.8461538461538461, 0.8, 0.9347826086956522, 0.8666666666666667, 0.9230769230769231]\n",
            "[0.8387096774193549, 0.8666666666666667, 0.6578947368421053, 0.6506024096385542, 0.8235294117647058, 0.8, 1.0, 1.0, 1.0, 0.8, 0.68, 0.6666666666666666, 0.8235294117647058, 0.75, 0.7647058823529411, 0.7777777777777778, 0.8, 0.7272727272727273, 0.9333333333333333, 1.0, 0.7777777777777778, 0.8333333333333334, 0.88, 1.0, 0.8333333333333334, 0.8888888888888888, 0.8285714285714286, 0.75, 0.75, 1.0, 0.875, 0.8666666666666667, 1.0, 1.0, 0.75, 0.7333333333333333, 0.75, 1.0, 1.0, 0.75, 0.6, 0.8333333333333334, 1.0, 1.0, 0.8333333333333334, 0.6666666666666666, 0.875, 0.6280193236714976, 0.6666666666666666, 1.0, 1.0, 0.5, 0.8, 0.5, 0.65, 0.8, 0.6666666666666666, 0.8, 1.0, 0.75, 0.9411764705882353, 0.72, 1.0, 0.8666666666666667, 1.0, 1.0, 0.8571428571428571, 1.0, 1.0, 0.8, 0.75, 0.8387096774193549, 0.9411764705882353, 0.8, 0.875, 0.6666666666666666, 0.8333333333333334, 0.8823529411764706, 1.0, 0.875, 0.9166666666666666, 0.8333333333333334, 0.8888888888888888, 0.6666666666666666, 1.0, 0.8888888888888888, 0.7777777777777778, 1.0, 0.9767441860465116, 0.8461538461538461, 0.7142857142857143, 0.9736842105263158]\n",
            "[0.8846153846153846, 1.0, 0.7777777777777778, 0.6333333333333333, 0.875, 0.7916666666666666, 0.576271186440678, 0.8, 0.8888888888888888, 1.0, 1.0, 1.0, 0.75, 0.6, 0.8484848484848485, 0.7333333333333333, 0.6666666666666666, 0.8333333333333334, 0.7777777777777778, 0.75, 0.631578947368421, 0.9411764705882353, 0.9166666666666666, 0.8181818181818182, 1.0, 0.8571428571428571, 0.8076923076923077, 1.0, 0.7142857142857143, 0.9230769230769231, 1.0, 0.75, 0.7142857142857143, 0.7857142857142857, 1.0, 1.0, 0.6666666666666666, 0.7727272727272727, 0.8, 0.8, 0.8, 0.8333333333333334, 1.0, 1.0, 0.875, 0.6372549019607843, 1.0, 1.0, 0.5, 1.0, 0.6842105263157895, 0.5, 0.625, 0.8571428571428571, 0.75, 1.0, 1.0, 1.0, 0.9285714285714286, 0.6551724137931034, 0.8095238095238095, 1.0, 0.9230769230769231, 1.0, 0.8518518518518519, 0.8235294117647058, 0.6666666666666666, 1.0, 1.0, 0.8888888888888888, 1.0, 1.0, 1.0, 1.0, 1.0, 0.8571428571428571, 0.875, 0.9166666666666666, 1.0, 0.9]\n",
            "[0.9166666666666666, 1.0, 1.0, 0.6666666666666666, 0.6428571428571429, 1.0, 0.85, 0.75, 0.8, 0.6530612244897959, 0.875, 1.0, 1.0, 0.6428571428571429, 0.6666666666666666, 0.8846153846153846, 0.8571428571428571, 0.8333333333333334, 1.0, 0.8, 0.8947368421052632, 0.8333333333333334, 0.6666666666666666, 0.75, 0.8, 0.8571428571428571, 0.8, 1.0, 0.75, 0.8636363636363636, 1.0, 0.8, 0.75, 1.0, 1.0, 0.8333333333333334, 1.0, 1.0, 0.6666666666666666, 1.0, 0.7777777777777778, 1.0, 0.8461538461538461, 0.6230366492146597, 0.5, 0.7222222222222222, 0.5, 0.42857142857142855, 1.0, 1.0, 1.0, 0.84, 0.75, 0.8888888888888888, 0.75, 0.8333333333333334, 0.8837209302325582, 0.7959183673469388, 1.0, 1.0, 0.8333333333333334, 1.0, 1.0, 1.0]\n",
            "[1.0, 0.9523809523809523, 0.5, 0.7037037037037037, 0.7272727272727273, 0.6666666666666666, 0.8888888888888888, 0.6444444444444445, 1.0, 0.7777777777777778, 0.6, 0.5, 0.8235294117647058, 0.8333333333333334, 1.0, 0.9375, 0.6666666666666666, 0.5, 0.75, 1.0, 1.0, 0.7692307692307693, 1.0, 1.0, 1.0, 1.0, 0.9, 0.8888888888888888, 1.0, 1.0, 1.0, 0.6, 0.6808510638297872, 0.6319444444444444, 0.5, 0.6666666666666666, 0.8333333333333334, 0.5, 0.75, 0.8181818181818182, 0.9285714285714286, 0.8571428571428571, 1.0, 0.75, 0.8478260869565217, 0.972972972972973, 0.8, 1.0]\n",
            "[0.8, 0.8888888888888888, 0.6111111111111112, 0.8571428571428571, 1.0, 1.0, 0.6428571428571429, 1.0, 0.8571428571428571, 0.5, 0.5, 0.9090909090909091, 0.8333333333333334, 1.0, 0.6666666666666666, 0.8, 1.0, 0.875, 0.8, 1.0, 1.0, 0.6666666666666666, 0.8, 0.7777777777777778, 0.6893939393939394, 0.9166666666666666, 0.5, 0.7272727272727273, 0.5, 0.5, 0.6666666666666666, 0.8571428571428571, 0.8333333333333334, 1.0, 0.9, 1.0, 0.828125, 0.9642857142857143, 1.0, 0.7692307692307693]\n",
            "[1.0, 0.75, 0.9, 0.75, 0.7777777777777778, 0.6666666666666666, 0.6666666666666666, 0.5, 0.75, 0.6666666666666666, 1.0, 0.8, 0.7142857142857143, 1.0, 0.8421052631578947, 0.75, 0.6528925619834711, 0.8181818181818182, 0.8888888888888888, 0.5, 0.7777777777777778, 0.5, 0.5, 0.8, 1.0, 0.8392857142857143, 1.0, 0.75, 0.8823529411764706, 0.7727272727272727]\n",
            "[0.75, 0.6666666666666666, 0.9090909090909091, 0.8, 0.6666666666666666, 0.5, 0.5, 1.0, 1.0, 0.8333333333333334, 1.0, 0.9, 0.7142857142857143, 0.6017699115044248, 0.875, 1.0, 0.5, 0.6666666666666666, 0.5, 0.6666666666666666, 0.7142857142857143, 0.8775510204081632, 1.0, 0.875, 1.0, 0.875, 0.8571428571428571]\n",
            "[0.6666666666666666, 0.8333333333333334, 0.7777777777777778, 1.0, 0.6666666666666666, 0.5, 0.5, 1.0, 0.7, 0.735632183908046, 0.7692307692307693, 1.0, 0.5, 0.8, 0.5, 0.75, 0.9111111111111111, 1.0, 0.6666666666666666, 0.8, 1.0]\n"
          ]
        }
      ],
      "source": [
        "accuracy_train=[]\n",
        "accuracy_test=[]\n",
        "for i in range(2,20):\n",
        "    # Build a decision tree with i layers\n",
        "    tree = DecisionTreeClassifier(max_depth=i, random_state=42)\n",
        "    tree.fit(X_train, y_train)\n",
        "\n",
        "    # Find the leaf nodes for each sample\n",
        "    leaf_indices = tree.apply(X_train)\n",
        "\n",
        "    # Fit a logistic regression model to each leaf node\n",
        "    lr_models = []\n",
        "    lm = LogisticRegression()\n",
        "    for k in np.unique(leaf_indices):\n",
        "        try:\n",
        "            lm.fit(X_train[leaf_indices == k], y_train[leaf_indices == k])\n",
        "            lr_models.append((lm.score(X_train[leaf_indices == k], y_train[leaf_indices == k])))\n",
        "        except ValueError:\n",
        "            pass\n",
        "    print(lr_models)\n",
        "\n",
        "    #Storing the accuracy of the model for i-th depth on training set\n",
        "    accuracy_train.append(np.mean(lr_models))\n",
        "\n",
        "    #Now we will be testing on the test dataset set:\n",
        "    y_generated_test=tree.predict(X_test)\n",
        "    leaf_indices_test = tree.apply(X_test)\n",
        "    pred=[]\n",
        "    for k in np.unique(leaf_indices_test):\n",
        "        try:\n",
        "            lm.fit(X_test[leaf_indices_test == k], y_test[leaf_indices_test == k])\n",
        "            pred.append((lm.score(X_test[leaf_indices_test == k], y_test[leaf_indices_test == k])))\n",
        "        except ValueError:\n",
        "            pass\n",
        "    accuracy_test.append(np.mean(pred))"
      ]
    },
    {
      "cell_type": "code",
      "execution_count": null,
      "id": "a10b219d",
      "metadata": {
        "id": "a10b219d",
        "outputId": "6432c371-6936-4ff5-d7ce-e527a951d6bd"
      },
      "outputs": [
        {
          "data": {
            "image/png": "[encoded data removed]",
            "text/plain": [
              "<Figure size 640x480 with 1 Axes>"
            ]
          },
          "metadata": {},
          "output_type": "display_data"
        }
      ],
      "source": [
        "x=np.arange(2,20)\n",
        "#x = np.linspace(2,1,20)\n",
        "plt.xticks(x)\n",
        "plt.plot(x ,accuracy_train, color='r', label='training data set')\n",
        "plt.plot(x ,accuracy_test, color='g', label='test data set')\n",
        "\n",
        "plt.xlabel(\"Value of depth of decesion tree\")\n",
        "plt.ylabel(\"Accuracy\")\n",
        "plt.title(\"Value of depth of decesion tree vs Accuracy \")\n",
        "plt.legend()\n",
        "plt.show()"
      ]
    },
    {
      "cell_type": "markdown",
      "id": "3ecccda1",
      "metadata": {
        "id": "3ecccda1"
      },
      "source": [
        "From the above graph the best value for the depth of the decesion tree seems to be 10."
      ]
    },
    {
      "cell_type": "markdown",
      "id": "4ddbf022",
      "metadata": {
        "id": "4ddbf022"
      },
      "source": [
        "Thus, the accuracy of the final \"Logit Leaf model\" is described below; depth of decesion tree =10, comes at the 8th index of in the array \"arr1\" and \"arr2\""
      ]
    },
    {
      "cell_type": "code",
      "execution_count": null,
      "id": "e2c4db0a",
      "metadata": {
        "id": "e2c4db0a",
        "outputId": "552adf38-3fdb-469e-b008-58bea60f227f"
      },
      "outputs": [
        {
          "name": "stdout",
          "output_type": "stream",
          "text": [
            "Accuracy of Decesion Tree model is : 0.9323949997142614\n"
          ]
        }
      ],
      "source": [
        "# Accuracy of Logit Leaf model is:\n",
        "print(\"Accuracy of Decesion Tree model is : \"+str(accuracy_test[8]))"
      ]
    },
    {
      "cell_type": "code",
      "execution_count": null,
      "id": "7b0d2835",
      "metadata": {
        "id": "7b0d2835"
      },
      "outputs": [],
      "source": []
    }
  ],
  "metadata": {
    "kernelspec": {
      "display_name": "Python 3 (ipykernel)",
      "language": "python",
      "name": "python3"
    },
    "language_info": {
      "codemirror_mode": {
        "name": "ipython",
        "version": 3
      },
      "file_extension": ".py",
      "mimetype": "text/x-python",
      "name": "python",
      "nbconvert_exporter": "python",
      "pygments_lexer": "ipython3",
      "version": "3.9.13"
    },
    "colab": {
      "provenance": []
    }
  },
  "nbformat": 4,
  "nbformat_minor": 5
}